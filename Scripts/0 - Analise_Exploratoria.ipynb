{
 "cells": [
  {
   "cell_type": "markdown",
   "id": "7caaca54",
   "metadata": {},
   "source": [
    "# Script de pré-processamento para as bases de dados do ENEM\n",
    "\n",
    "**Autor**: Rafael Victor Araujo Bernardes - rafaelvictor.bernardes@gmail.com"
   ]
  },
  {
   "cell_type": "markdown",
   "id": "25d498e0",
   "metadata": {},
   "source": [
    "## Análise exploratória dos dados.\n",
    "\n",
    "O objetivo principal desta análise exploratória dos dados é entender e extrair _insights_ iniciais sobre os microdados por meio da observação de padrões, tendências, relações e anomalias. Segue abaixo um compilado das etapas que segui:"
   ]
  },
  {
   "cell_type": "code",
   "execution_count": 1,
   "id": "7d3fd9e5",
   "metadata": {},
   "outputs": [],
   "source": [
    "import pandas as pd"
   ]
  },
  {
   "cell_type": "code",
   "execution_count": 2,
   "id": "e1b91d6b",
   "metadata": {},
   "outputs": [],
   "source": [
    "# Variáveis de controle\n",
    "\n",
    "# ano = '2019'\n",
    "# ano = '2020'\n",
    "# ano = '2021'\n",
    "# ano = '2022'\n",
    "ano = '2023'\n",
    "\n",
    "# Endereço dados brutos:\n",
    "DATASET_ENEM_PATH = 'D:\\Bases\\MICRODADOS_ENEM_' + ano + '.csv'"
   ]
  },
  {
   "cell_type": "code",
   "execution_count": 3,
   "id": "880a3a5d",
   "metadata": {},
   "outputs": [],
   "source": [
    "microdadosEnem = pd.read_csv(DATASET_ENEM_PATH, sep=';', encoding='ISO-8859-1')"
   ]
  },
  {
   "cell_type": "code",
   "execution_count": 4,
   "id": "302802ae",
   "metadata": {},
   "outputs": [
    {
     "data": {
      "text/html": [
       "<div>\n",
       "<style scoped>\n",
       "    .dataframe tbody tr th:only-of-type {\n",
       "        vertical-align: middle;\n",
       "    }\n",
       "\n",
       "    .dataframe tbody tr th {\n",
       "        vertical-align: top;\n",
       "    }\n",
       "\n",
       "    .dataframe thead th {\n",
       "        text-align: right;\n",
       "    }\n",
       "</style>\n",
       "<table border=\"1\" class=\"dataframe\">\n",
       "  <thead>\n",
       "    <tr style=\"text-align: right;\">\n",
       "      <th></th>\n",
       "      <th>NU_INSCRICAO</th>\n",
       "      <th>NU_ANO</th>\n",
       "      <th>TP_FAIXA_ETARIA</th>\n",
       "      <th>TP_SEXO</th>\n",
       "      <th>TP_ESTADO_CIVIL</th>\n",
       "      <th>TP_COR_RACA</th>\n",
       "      <th>TP_NACIONALIDADE</th>\n",
       "      <th>TP_ST_CONCLUSAO</th>\n",
       "      <th>TP_ANO_CONCLUIU</th>\n",
       "      <th>TP_ESCOLA</th>\n",
       "      <th>...</th>\n",
       "      <th>Q016</th>\n",
       "      <th>Q017</th>\n",
       "      <th>Q018</th>\n",
       "      <th>Q019</th>\n",
       "      <th>Q020</th>\n",
       "      <th>Q021</th>\n",
       "      <th>Q022</th>\n",
       "      <th>Q023</th>\n",
       "      <th>Q024</th>\n",
       "      <th>Q025</th>\n",
       "    </tr>\n",
       "  </thead>\n",
       "  <tbody>\n",
       "    <tr>\n",
       "      <th>0</th>\n",
       "      <td>210059085136</td>\n",
       "      <td>2023</td>\n",
       "      <td>14</td>\n",
       "      <td>M</td>\n",
       "      <td>2</td>\n",
       "      <td>1</td>\n",
       "      <td>1</td>\n",
       "      <td>1</td>\n",
       "      <td>17</td>\n",
       "      <td>1</td>\n",
       "      <td>...</td>\n",
       "      <td>C</td>\n",
       "      <td>C</td>\n",
       "      <td>B</td>\n",
       "      <td>B</td>\n",
       "      <td>A</td>\n",
       "      <td>B</td>\n",
       "      <td>B</td>\n",
       "      <td>A</td>\n",
       "      <td>A</td>\n",
       "      <td>B</td>\n",
       "    </tr>\n",
       "    <tr>\n",
       "      <th>1</th>\n",
       "      <td>210059527735</td>\n",
       "      <td>2023</td>\n",
       "      <td>12</td>\n",
       "      <td>M</td>\n",
       "      <td>2</td>\n",
       "      <td>1</td>\n",
       "      <td>0</td>\n",
       "      <td>1</td>\n",
       "      <td>16</td>\n",
       "      <td>1</td>\n",
       "      <td>...</td>\n",
       "      <td>B</td>\n",
       "      <td>A</td>\n",
       "      <td>B</td>\n",
       "      <td>B</td>\n",
       "      <td>A</td>\n",
       "      <td>A</td>\n",
       "      <td>C</td>\n",
       "      <td>A</td>\n",
       "      <td>D</td>\n",
       "      <td>B</td>\n",
       "    </tr>\n",
       "    <tr>\n",
       "      <th>2</th>\n",
       "      <td>210061103945</td>\n",
       "      <td>2023</td>\n",
       "      <td>6</td>\n",
       "      <td>F</td>\n",
       "      <td>1</td>\n",
       "      <td>1</td>\n",
       "      <td>1</td>\n",
       "      <td>1</td>\n",
       "      <td>0</td>\n",
       "      <td>1</td>\n",
       "      <td>...</td>\n",
       "      <td>B</td>\n",
       "      <td>A</td>\n",
       "      <td>A</td>\n",
       "      <td>B</td>\n",
       "      <td>A</td>\n",
       "      <td>A</td>\n",
       "      <td>A</td>\n",
       "      <td>A</td>\n",
       "      <td>A</td>\n",
       "      <td>B</td>\n",
       "    </tr>\n",
       "    <tr>\n",
       "      <th>3</th>\n",
       "      <td>210060214087</td>\n",
       "      <td>2023</td>\n",
       "      <td>2</td>\n",
       "      <td>F</td>\n",
       "      <td>1</td>\n",
       "      <td>3</td>\n",
       "      <td>1</td>\n",
       "      <td>2</td>\n",
       "      <td>0</td>\n",
       "      <td>2</td>\n",
       "      <td>...</td>\n",
       "      <td>A</td>\n",
       "      <td>A</td>\n",
       "      <td>A</td>\n",
       "      <td>B</td>\n",
       "      <td>A</td>\n",
       "      <td>A</td>\n",
       "      <td>D</td>\n",
       "      <td>A</td>\n",
       "      <td>A</td>\n",
       "      <td>B</td>\n",
       "    </tr>\n",
       "    <tr>\n",
       "      <th>4</th>\n",
       "      <td>210059980948</td>\n",
       "      <td>2023</td>\n",
       "      <td>3</td>\n",
       "      <td>F</td>\n",
       "      <td>1</td>\n",
       "      <td>3</td>\n",
       "      <td>1</td>\n",
       "      <td>2</td>\n",
       "      <td>0</td>\n",
       "      <td>2</td>\n",
       "      <td>...</td>\n",
       "      <td>A</td>\n",
       "      <td>A</td>\n",
       "      <td>A</td>\n",
       "      <td>B</td>\n",
       "      <td>A</td>\n",
       "      <td>A</td>\n",
       "      <td>B</td>\n",
       "      <td>A</td>\n",
       "      <td>A</td>\n",
       "      <td>A</td>\n",
       "    </tr>\n",
       "  </tbody>\n",
       "</table>\n",
       "<p>5 rows × 76 columns</p>\n",
       "</div>"
      ],
      "text/plain": [
       "   NU_INSCRICAO  NU_ANO  TP_FAIXA_ETARIA TP_SEXO  TP_ESTADO_CIVIL  \\\n",
       "0  210059085136    2023               14       M                2   \n",
       "1  210059527735    2023               12       M                2   \n",
       "2  210061103945    2023                6       F                1   \n",
       "3  210060214087    2023                2       F                1   \n",
       "4  210059980948    2023                3       F                1   \n",
       "\n",
       "   TP_COR_RACA  TP_NACIONALIDADE  TP_ST_CONCLUSAO  TP_ANO_CONCLUIU  TP_ESCOLA  \\\n",
       "0            1                 1                1               17          1   \n",
       "1            1                 0                1               16          1   \n",
       "2            1                 1                1                0          1   \n",
       "3            3                 1                2                0          2   \n",
       "4            3                 1                2                0          2   \n",
       "\n",
       "   ...  Q016  Q017  Q018 Q019  Q020 Q021  Q022  Q023  Q024  Q025  \n",
       "0  ...     C     C     B    B     A    B     B     A     A     B  \n",
       "1  ...     B     A     B    B     A    A     C     A     D     B  \n",
       "2  ...     B     A     A    B     A    A     A     A     A     B  \n",
       "3  ...     A     A     A    B     A    A     D     A     A     B  \n",
       "4  ...     A     A     A    B     A    A     B     A     A     A  \n",
       "\n",
       "[5 rows x 76 columns]"
      ]
     },
     "execution_count": 4,
     "metadata": {},
     "output_type": "execute_result"
    }
   ],
   "source": [
    "microdadosEnem.head()"
   ]
  },
  {
   "cell_type": "code",
   "execution_count": 5,
   "id": "4269652b",
   "metadata": {},
   "outputs": [
    {
     "name": "stdout",
     "output_type": "stream",
     "text": [
      "Número total de instâncias (candidatos): 3933955\n"
     ]
    }
   ],
   "source": [
    "total_instancias = microdadosEnem.shape[0]\n",
    "print(f\"Número total de instâncias (candidatos): {total_instancias}\")"
   ]
  },
  {
   "cell_type": "code",
   "execution_count": 6,
   "id": "7985c501",
   "metadata": {},
   "outputs": [
    {
     "name": "stdout",
     "output_type": "stream",
     "text": [
      "Quantidade de atributos (colunas): 76\n"
     ]
    }
   ],
   "source": [
    "total_atributos = microdadosEnem.shape[1]\n",
    "print(f\"Quantidade de atributos (colunas): {total_atributos}\")"
   ]
  },
  {
   "cell_type": "code",
   "execution_count": 7,
   "id": "65f5e216",
   "metadata": {},
   "outputs": [
    {
     "name": "stdout",
     "output_type": "stream",
     "text": [
      "Linhas com dados faltantes: 3225341\n"
     ]
    }
   ],
   "source": [
    "linhas_irregulares = microdadosEnem.isnull().any(axis=1).sum()\n",
    "print(f\"Linhas com dados faltantes: {linhas_irregulares}\")"
   ]
  },
  {
   "cell_type": "code",
   "execution_count": 8,
   "id": "29fa926a",
   "metadata": {},
   "outputs": [
    {
     "name": "stdout",
     "output_type": "stream",
     "text": [
      "\n",
      "Distribuição percentual da renda familiar (Q006):\n",
      "Q006\n",
      "B    31.654429\n",
      "C    16.546758\n",
      "D    11.117717\n",
      "E     7.473243\n",
      "A     6.813830\n",
      "G     6.642857\n",
      "F     4.355515\n",
      "H     3.540432\n",
      "I     2.185333\n",
      "J     1.911028\n",
      "K     1.515803\n",
      "Q     1.308836\n",
      "N     1.056570\n",
      "O     1.047750\n",
      "L     1.006519\n",
      "P     0.968618\n",
      "M     0.854763\n",
      "Name: proportion, dtype: float64\n"
     ]
    }
   ],
   "source": [
    "distribuicao_renda = microdadosEnem['Q006'].value_counts(normalize=True) * 100\n",
    "print(\"\\nDistribuição percentual da renda familiar (Q006):\")\n",
    "print(distribuicao_renda)"
   ]
  },
  {
   "cell_type": "code",
   "execution_count": 9,
   "id": "4a201977",
   "metadata": {},
   "outputs": [
    {
     "name": "stdout",
     "output_type": "stream",
     "text": [
      "\n",
      "Distribuição percentual da escolaridade da mãe (Q002):\n",
      "Q002\n",
      "E    35.018321\n",
      "B    12.850300\n",
      "D    12.045232\n",
      "F    11.572781\n",
      "G    11.232792\n",
      "C    11.108973\n",
      "H     3.354309\n",
      "A     2.817292\n",
      "Name: proportion, dtype: float64\n"
     ]
    }
   ],
   "source": [
    "distribuicao_escolaridade_mae = microdadosEnem['Q002'].value_counts(normalize=True) * 100\n",
    "print(\"\\nDistribuição percentual da escolaridade da mãe (Q002):\")\n",
    "print(distribuicao_escolaridade_mae)"
   ]
  },
  {
   "cell_type": "code",
   "execution_count": 10,
   "id": "3dc681c0",
   "metadata": {},
   "outputs": [
    {
     "name": "stdout",
     "output_type": "stream",
     "text": [
      "\n",
      "Distribuição percentual da cor/raça (TP_COR_RACA):\n",
      "TP_COR_RACA\n",
      "3    43.386312\n",
      "1    40.057601\n",
      "2    12.951622\n",
      "4     1.639876\n",
      "0     1.336441\n",
      "5     0.628146\n",
      "Name: proportion, dtype: float64\n"
     ]
    }
   ],
   "source": [
    "distribuicao_cor_raca = microdadosEnem['TP_COR_RACA'].value_counts(normalize=True) * 100\n",
    "print(\"\\nDistribuição percentual da cor/raça (TP_COR_RACA):\")\n",
    "print(distribuicao_cor_raca)"
   ]
  },
  {
   "cell_type": "code",
   "execution_count": 11,
   "id": "d4c0c09f",
   "metadata": {},
   "outputs": [
    {
     "name": "stdout",
     "output_type": "stream",
     "text": [
      "\n",
      "Distribuição percentual de acesso à internet (Q025):\n",
      "Q025\n",
      "B    90.454797\n",
      "A     9.545203\n",
      "Name: proportion, dtype: float64\n"
     ]
    }
   ],
   "source": [
    "distribuicao_acesso_internet = microdadosEnem['Q025'].value_counts(normalize=True) * 100\n",
    "print(\"\\nDistribuição percentual de acesso à internet (Q025):\")\n",
    "print(distribuicao_acesso_internet)"
   ]
  }
 ],
 "metadata": {
  "kernelspec": {
   "display_name": "Python 3 (ipykernel)",
   "language": "python",
   "name": "python3"
  },
  "language_info": {
   "codemirror_mode": {
    "name": "ipython",
    "version": 3
   },
   "file_extension": ".py",
   "mimetype": "text/x-python",
   "name": "python",
   "nbconvert_exporter": "python",
   "pygments_lexer": "ipython3",
   "version": "3.11.5"
  }
 },
 "nbformat": 4,
 "nbformat_minor": 5
}

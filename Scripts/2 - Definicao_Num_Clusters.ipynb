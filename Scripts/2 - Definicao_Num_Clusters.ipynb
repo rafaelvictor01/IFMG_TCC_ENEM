{
 "cells": [
  {
   "cell_type": "markdown",
   "id": "ce8f482c",
   "metadata": {},
   "source": [
    "# Script para definição do número de clusters (Algoritmo KMeans) - bases de dados do ENEM\n",
    "\n",
    "**Autor**: Rafael Victor Araujo Bernardes - rafaelvictor.bernardes@gmail.com"
   ]
  },
  {
   "cell_type": "code",
   "execution_count": 1,
   "id": "9a25d1b0",
   "metadata": {},
   "outputs": [],
   "source": [
    "import pandas as pd\n",
    "import matplotlib.pyplot as plt\n",
    "import numpy as np\n",
    "\n",
    "from sklearn.cluster import KMeans"
   ]
  },
  {
   "cell_type": "code",
   "execution_count": 2,
   "id": "0a94f8d5",
   "metadata": {},
   "outputs": [],
   "source": [
    "# Variáveis de controle\n",
    "\n",
    "# ano = '2019'\n",
    "# ano = '2020'\n",
    "# ano = '2021'\n",
    "ano = '2022'\n",
    "# ano = '2023'\n",
    "\n",
    "DATASET_ENEM_PATH = 'D:\\BASES_PRE_PROCESSADAS\\PRE_PROCESSADOS_ENEM_' + ano + '.csv'\n",
    "ELBOW_METHOD_RESULT_PATH = 'D:\\GRAFICOS_ELBOW_METHOD\\Elbow_Method_' + ano + '.png'"
   ]
  },
  {
   "cell_type": "code",
   "execution_count": 3,
   "id": "54d73948",
   "metadata": {},
   "outputs": [],
   "source": [
    "microdadosEnem = pd.read_csv(DATASET_ENEM_PATH, sep=',', encoding='ISO-8859-1')"
   ]
  },
  {
   "cell_type": "code",
   "execution_count": 4,
   "id": "55254c6d",
   "metadata": {},
   "outputs": [
    {
     "data": {
      "text/plain": [
       "(2344823, 169)"
      ]
     },
     "execution_count": 4,
     "metadata": {},
     "output_type": "execute_result"
    }
   ],
   "source": [
    "microdadosEnem.shape"
   ]
  },
  {
   "cell_type": "code",
   "execution_count": 5,
   "id": "e593448e",
   "metadata": {},
   "outputs": [
    {
     "data": {
      "text/html": [
       "<div>\n",
       "<style scoped>\n",
       "    .dataframe tbody tr th:only-of-type {\n",
       "        vertical-align: middle;\n",
       "    }\n",
       "\n",
       "    .dataframe tbody tr th {\n",
       "        vertical-align: top;\n",
       "    }\n",
       "\n",
       "    .dataframe thead th {\n",
       "        text-align: right;\n",
       "    }\n",
       "</style>\n",
       "<table border=\"1\" class=\"dataframe\">\n",
       "  <thead>\n",
       "    <tr style=\"text-align: right;\">\n",
       "      <th></th>\n",
       "      <th>MEDIA_NOTAS</th>\n",
       "      <th>TP_FAIXA_ETARIA_1</th>\n",
       "      <th>TP_FAIXA_ETARIA_2</th>\n",
       "      <th>TP_FAIXA_ETARIA_3</th>\n",
       "      <th>TP_FAIXA_ETARIA_4</th>\n",
       "      <th>TP_FAIXA_ETARIA_5</th>\n",
       "      <th>TP_FAIXA_ETARIA_6</th>\n",
       "      <th>TP_FAIXA_ETARIA_7</th>\n",
       "      <th>TP_FAIXA_ETARIA_8</th>\n",
       "      <th>TP_FAIXA_ETARIA_9</th>\n",
       "      <th>...</th>\n",
       "      <th>Q024_D</th>\n",
       "      <th>Q024_E</th>\n",
       "      <th>Q025_A</th>\n",
       "      <th>Q025_B</th>\n",
       "      <th>MACRO_REGIAO_CENTRO_OESTE</th>\n",
       "      <th>MACRO_REGIAO_NORDESTE</th>\n",
       "      <th>MACRO_REGIAO_NORTE</th>\n",
       "      <th>MACRO_REGIAO_SUDESTE</th>\n",
       "      <th>MACRO_REGIAO_SUL</th>\n",
       "      <th>K_Cluster</th>\n",
       "    </tr>\n",
       "  </thead>\n",
       "  <tbody>\n",
       "    <tr>\n",
       "      <th>0</th>\n",
       "      <td>558.24</td>\n",
       "      <td>False</td>\n",
       "      <td>False</td>\n",
       "      <td>False</td>\n",
       "      <td>False</td>\n",
       "      <td>True</td>\n",
       "      <td>False</td>\n",
       "      <td>False</td>\n",
       "      <td>False</td>\n",
       "      <td>False</td>\n",
       "      <td>...</td>\n",
       "      <td>False</td>\n",
       "      <td>False</td>\n",
       "      <td>False</td>\n",
       "      <td>True</td>\n",
       "      <td>False</td>\n",
       "      <td>True</td>\n",
       "      <td>False</td>\n",
       "      <td>False</td>\n",
       "      <td>False</td>\n",
       "      <td>3</td>\n",
       "    </tr>\n",
       "    <tr>\n",
       "      <th>1</th>\n",
       "      <td>394.62</td>\n",
       "      <td>False</td>\n",
       "      <td>False</td>\n",
       "      <td>False</td>\n",
       "      <td>False</td>\n",
       "      <td>False</td>\n",
       "      <td>True</td>\n",
       "      <td>False</td>\n",
       "      <td>False</td>\n",
       "      <td>False</td>\n",
       "      <td>...</td>\n",
       "      <td>False</td>\n",
       "      <td>False</td>\n",
       "      <td>False</td>\n",
       "      <td>True</td>\n",
       "      <td>False</td>\n",
       "      <td>False</td>\n",
       "      <td>False</td>\n",
       "      <td>True</td>\n",
       "      <td>False</td>\n",
       "      <td>4</td>\n",
       "    </tr>\n",
       "    <tr>\n",
       "      <th>2</th>\n",
       "      <td>414.10</td>\n",
       "      <td>False</td>\n",
       "      <td>False</td>\n",
       "      <td>False</td>\n",
       "      <td>False</td>\n",
       "      <td>False</td>\n",
       "      <td>True</td>\n",
       "      <td>False</td>\n",
       "      <td>False</td>\n",
       "      <td>False</td>\n",
       "      <td>...</td>\n",
       "      <td>False</td>\n",
       "      <td>False</td>\n",
       "      <td>False</td>\n",
       "      <td>True</td>\n",
       "      <td>False</td>\n",
       "      <td>False</td>\n",
       "      <td>False</td>\n",
       "      <td>True</td>\n",
       "      <td>False</td>\n",
       "      <td>4</td>\n",
       "    </tr>\n",
       "    <tr>\n",
       "      <th>3</th>\n",
       "      <td>438.10</td>\n",
       "      <td>False</td>\n",
       "      <td>False</td>\n",
       "      <td>False</td>\n",
       "      <td>True</td>\n",
       "      <td>False</td>\n",
       "      <td>False</td>\n",
       "      <td>False</td>\n",
       "      <td>False</td>\n",
       "      <td>False</td>\n",
       "      <td>...</td>\n",
       "      <td>False</td>\n",
       "      <td>False</td>\n",
       "      <td>False</td>\n",
       "      <td>True</td>\n",
       "      <td>False</td>\n",
       "      <td>True</td>\n",
       "      <td>False</td>\n",
       "      <td>False</td>\n",
       "      <td>False</td>\n",
       "      <td>3</td>\n",
       "    </tr>\n",
       "    <tr>\n",
       "      <th>4</th>\n",
       "      <td>576.70</td>\n",
       "      <td>False</td>\n",
       "      <td>True</td>\n",
       "      <td>False</td>\n",
       "      <td>False</td>\n",
       "      <td>False</td>\n",
       "      <td>False</td>\n",
       "      <td>False</td>\n",
       "      <td>False</td>\n",
       "      <td>False</td>\n",
       "      <td>...</td>\n",
       "      <td>False</td>\n",
       "      <td>False</td>\n",
       "      <td>False</td>\n",
       "      <td>True</td>\n",
       "      <td>False</td>\n",
       "      <td>True</td>\n",
       "      <td>False</td>\n",
       "      <td>False</td>\n",
       "      <td>False</td>\n",
       "      <td>0</td>\n",
       "    </tr>\n",
       "  </tbody>\n",
       "</table>\n",
       "<p>5 rows × 169 columns</p>\n",
       "</div>"
      ],
      "text/plain": [
       "   MEDIA_NOTAS  TP_FAIXA_ETARIA_1  TP_FAIXA_ETARIA_2  TP_FAIXA_ETARIA_3  \\\n",
       "0       558.24              False              False              False   \n",
       "1       394.62              False              False              False   \n",
       "2       414.10              False              False              False   \n",
       "3       438.10              False              False              False   \n",
       "4       576.70              False               True              False   \n",
       "\n",
       "   TP_FAIXA_ETARIA_4  TP_FAIXA_ETARIA_5  TP_FAIXA_ETARIA_6  TP_FAIXA_ETARIA_7  \\\n",
       "0              False               True              False              False   \n",
       "1              False              False               True              False   \n",
       "2              False              False               True              False   \n",
       "3               True              False              False              False   \n",
       "4              False              False              False              False   \n",
       "\n",
       "   TP_FAIXA_ETARIA_8  TP_FAIXA_ETARIA_9  ...  Q024_D  Q024_E  Q025_A  Q025_B  \\\n",
       "0              False              False  ...   False   False   False    True   \n",
       "1              False              False  ...   False   False   False    True   \n",
       "2              False              False  ...   False   False   False    True   \n",
       "3              False              False  ...   False   False   False    True   \n",
       "4              False              False  ...   False   False   False    True   \n",
       "\n",
       "   MACRO_REGIAO_CENTRO_OESTE  MACRO_REGIAO_NORDESTE  MACRO_REGIAO_NORTE  \\\n",
       "0                      False                   True               False   \n",
       "1                      False                  False               False   \n",
       "2                      False                  False               False   \n",
       "3                      False                   True               False   \n",
       "4                      False                   True               False   \n",
       "\n",
       "   MACRO_REGIAO_SUDESTE  MACRO_REGIAO_SUL  K_Cluster  \n",
       "0                 False             False          3  \n",
       "1                  True             False          4  \n",
       "2                  True             False          4  \n",
       "3                 False             False          3  \n",
       "4                 False             False          0  \n",
       "\n",
       "[5 rows x 169 columns]"
      ]
     },
     "execution_count": 5,
     "metadata": {},
     "output_type": "execute_result"
    }
   ],
   "source": [
    "microdadosEnem.head()"
   ]
  },
  {
   "cell_type": "markdown",
   "id": "0e383c1c",
   "metadata": {},
   "source": [
    "### Identificando o melhor número possivel de K`s\n",
    "\n",
    "Utilizando o método do cotovelo (Elbow Method) para determinar o valor de K "
   ]
  },
  {
   "cell_type": "code",
   "execution_count": 6,
   "id": "a30057e5",
   "metadata": {},
   "outputs": [],
   "source": [
    "aux_init = \"k-means++\"\n",
    "aux_n_init = \"auto\"\n",
    "aux_max_iter = 10\n",
    "aux_random_state = 72769"
   ]
  },
  {
   "cell_type": "code",
   "execution_count": 7,
   "id": "40997fb9",
   "metadata": {},
   "outputs": [
    {
     "name": "stdout",
     "output_type": "stream",
     "text": [
      "1) 38793949.08269635\n",
      "2) 34940127.648929015\n",
      "3) 33700952.24380483\n",
      "4) 32780734.91463276\n",
      "5) 31968424.7617884\n",
      "6) 31614387.914450865\n",
      "7) 31319922.80982183\n",
      "8) 31105918.34885064\n",
      "9) 30894134.65247944\n"
     ]
    }
   ],
   "source": [
    "valores_k = []\n",
    "inercias = []\n",
    "\n",
    "colunas_para_kmeans = [col for col in microdadosEnem.columns if col not in ['MEDIA_NOTAS', 'K_Cluster']]\n",
    "\n",
    "# Percorrendo diferentes valores de k para k entre 1 e 10\n",
    "for k in range(1, 10):\n",
    "    kmeans = KMeans(\n",
    "        init         = aux_init,\n",
    "        n_clusters   = k,\n",
    "        n_init       = aux_n_init,\n",
    "        max_iter     = aux_max_iter,\n",
    "        random_state = aux_random_state\n",
    "    ).fit(microdadosEnem[colunas_para_kmeans])\n",
    "\n",
    "    valores_k.append(k)\n",
    "    inercias.append(kmeans.inertia_)\n",
    "    print(f'{k:d}) {kmeans.inertia_}')"
   ]
  },
  {
   "cell_type": "markdown",
   "id": "633c2d1c",
   "metadata": {},
   "source": [
    "#### Sobre a Inertia\n",
    "\n",
    "No contexto da clusterização utilizando o algoritmo KMeans do scikit-learn, o valor de \"Inertia\" é uma medida de quão bem os pontos de dados foram agrupados em clusters. Mais especificamente, a inércia é a soma das distâncias quadradas entre cada ponto de dados e o centroide do cluster ao qual ele pertence. É uma medida da coesão dos clusters, ou seja, quão próximos os pontos de dados estão uns dos outros dentro de cada cluster.\n",
    "\n",
    "A inércia é um valor que o KMeans tenta minimizar durante o processo de ajuste do modelo. Um valor menor de inércia indica que os pontos de dados estão mais próximos dos seus centroides, sugerindo clusters mais coesos. No entanto, a inércia pode diminuir com o aumento do número de clusters, mesmo que os clusters se tornem menos significativos. Portanto, a escolha do número ideal de clusters geralmente envolve o uso de outras técnicas, como o método do cotovelo (\"elbow method\")."
   ]
  },
  {
   "cell_type": "code",
   "execution_count": 8,
   "id": "b8ab951c",
   "metadata": {},
   "outputs": [
    {
     "data": {
      "image/png": "[encoded data removed]",
      "text/plain": [
       "<Figure size 800x600 with 1 Axes>"
      ]
     },
     "metadata": {},
     "output_type": "display_data"
    }
   ],
   "source": [
    "fig, ax = plt.subplots(figsize=(8, 6))  # Ajuste o tamanho do gráfico se necessário\n",
    "\n",
    "# Definindo o título e os rótulos dos eixos\n",
    "ax.set_title('Método do Cotovelo para Determinação do Número de Clusters')\n",
    "ax.set_xlabel('Número de Clusters (k)')\n",
    "ax.set_ylabel('Inertia (Dispersão dentro dos clusters)')\n",
    "\n",
    "# Plotando os pontos e a linha\n",
    "ax.plot(valores_k, inercias, marker='o', linestyle='-', color='blue')\n",
    "\n",
    "plt.savefig(ELBOW_METHOD_RESULT_PATH, facecolor='w')\n",
    "\n",
    "plt.show()"
   ]
  }
 ],
 "metadata": {
  "kernelspec": {
   "display_name": "Python 3 (ipykernel)",
   "language": "python",
   "name": "python3"
  },
  "language_info": {
   "codemirror_mode": {
    "name": "ipython",
    "version": 3
   },
   "file_extension": ".py",
   "mimetype": "text/x-python",
   "name": "python",
   "nbconvert_exporter": "python",
   "pygments_lexer": "ipython3",
   "version": "3.11.5"
  }
 },
 "nbformat": 4,
 "nbformat_minor": 5
}

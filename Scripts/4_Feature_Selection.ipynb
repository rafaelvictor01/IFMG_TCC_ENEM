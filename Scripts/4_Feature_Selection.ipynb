{
 "cells": [
  {
   "cell_type": "markdown",
   "id": "c4a0e7b9",
   "metadata": {},
   "source": [
    "# Script de seleção de caracteristicas dos clusters formados nas bases de dados do ENEM\n",
    "\n",
    "**Autor**: Rafael Victor Araujo Bernardes - rafaelvictor.bernardes@gmail.com"
   ]
  },
  {
   "cell_type": "code",
   "execution_count": 1,
   "id": "a6b822bd",
   "metadata": {},
   "outputs": [],
   "source": [
    "import pandas as pd\n",
    "import numpy as np\n",
    "from sklearn.feature_selection import SelectKBest, chi2"
   ]
  },
  {
   "cell_type": "code",
   "execution_count": 2,
   "id": "0e1274b8",
   "metadata": {},
   "outputs": [],
   "source": [
    "# Variáveis de controle\n",
    "\n",
    "# ano = '2019'\n",
    "# ano = '2020'\n",
    "# ano = '2021'\n",
    "# ano = '2022'\n",
    "ano = '2023'\n",
    "\n",
    "DATASET_ENEM_PATH = f'D:/BASES_PRE_PROCESSADAS/PRE_PROCESSADOS_ENEM_{ano}.csv'"
   ]
  },
  {
   "cell_type": "code",
   "execution_count": 3,
   "id": "1456fa16",
   "metadata": {},
   "outputs": [],
   "source": [
    "microdadosEnem = pd.read_csv(DATASET_ENEM_PATH, sep=',', encoding='ISO-8859-1')"
   ]
  },
  {
   "cell_type": "code",
   "execution_count": 4,
   "id": "8ff28168",
   "metadata": {},
   "outputs": [
    {
     "data": {
      "text/plain": [
       "(2678264, 169)"
      ]
     },
     "execution_count": 4,
     "metadata": {},
     "output_type": "execute_result"
    }
   ],
   "source": [
    "microdadosEnem.shape"
   ]
  },
  {
   "cell_type": "code",
   "execution_count": 5,
   "id": "215e30aa",
   "metadata": {},
   "outputs": [
    {
     "data": {
      "text/plain": [
       "Index(['MEDIA_NOTAS', 'TP_FAIXA_ETARIA_1', 'TP_FAIXA_ETARIA_2',\n",
       "       'TP_FAIXA_ETARIA_3', 'TP_FAIXA_ETARIA_4', 'TP_FAIXA_ETARIA_5',\n",
       "       'TP_FAIXA_ETARIA_6', 'TP_FAIXA_ETARIA_7', 'TP_FAIXA_ETARIA_8',\n",
       "       'TP_FAIXA_ETARIA_9',\n",
       "       ...\n",
       "       'Q024_D', 'Q024_E', 'Q025_A', 'Q025_B', 'MACRO_REGIAO_CENTRO_OESTE',\n",
       "       'MACRO_REGIAO_NORDESTE', 'MACRO_REGIAO_NORTE', 'MACRO_REGIAO_SUDESTE',\n",
       "       'MACRO_REGIAO_SUL', 'K_Cluster'],\n",
       "      dtype='object', length=169)"
      ]
     },
     "execution_count": 5,
     "metadata": {},
     "output_type": "execute_result"
    }
   ],
   "source": [
    "microdadosEnem.columns"
   ]
  },
  {
   "cell_type": "code",
   "execution_count": 6,
   "id": "238a22fd",
   "metadata": {},
   "outputs": [],
   "source": [
    "microdados_enem_features = [col for col in microdadosEnem.columns if col != 'MEDIA_NOTAS' and col != 'K_Cluster']"
   ]
  },
  {
   "cell_type": "code",
   "execution_count": 7,
   "id": "dc460cd6",
   "metadata": {
    "scrolled": true
   },
   "outputs": [
    {
     "name": "stdout",
     "output_type": "stream",
     "text": [
      "Cluster: 0; Features selecionadas pelo chi2: ['TP_ST_CONCLUSAO_1', 'TP_ST_CONCLUSAO_2', 'TP_ESCOLA_1', 'TP_ESCOLA_2', 'Q006_B', 'Q010_A', 'Q014_A', 'Q016_A', 'Q016_B', 'Q024_A']\n",
      "Cluster: 1; Features selecionadas pelo chi2: ['TP_ST_CONCLUSAO_1', 'TP_ST_CONCLUSAO_2', 'TP_ESCOLA_1', 'TP_ESCOLA_2', 'Q006_B', 'Q010_A', 'Q014_A', 'Q016_A', 'Q016_B', 'Q018_B']\n",
      "Cluster: 2; Features selecionadas pelo chi2: ['TP_FAIXA_ETARIA_2', 'TP_FAIXA_ETARIA_3', 'TP_ST_CONCLUSAO_1', 'TP_ST_CONCLUSAO_2', 'TP_ST_CONCLUSAO_3', 'TP_ESCOLA_1', 'TP_ESCOLA_2', 'Q010_B', 'Q014_A', 'Q014_B']\n",
      "Cluster: 3; Features selecionadas pelo chi2: ['Q001_G', 'Q003_E', 'Q004_E', 'Q006_L', 'Q008_D', 'Q008_E', 'Q010_C', 'Q018_B', 'Q019_E', 'Q021_B']\n",
      "Cluster: 4; Features selecionadas pelo chi2: ['TP_ST_CONCLUSAO_2', 'TP_ESCOLA_1', 'TP_ESCOLA_2', 'Q006_B', 'Q008_C', 'Q010_A', 'Q010_B', 'Q014_A', 'Q024_A', 'Q024_B']\n"
     ]
    }
   ],
   "source": [
    "for cluster in np.sort(microdadosEnem.K_Cluster.unique()):\n",
    "\n",
    "    # Seleção de features com o método SelectKBest (chi2)\n",
    "    labels_binarias = (microdadosEnem['K_Cluster'] == cluster).astype(int)\n",
    "    X = microdadosEnem[microdados_enem_features]\n",
    "    selector_chi2 = SelectKBest(score_func=chi2, k=10)\n",
    "    selector_chi2.fit_transform(X, labels_binarias)\n",
    "    \n",
    "    features_chi2 = X.columns[selector_chi2.get_support()]\n",
    "    print(f\"Cluster: {cluster:d}; Features selecionadas pelo chi2: {list(features_chi2)}\")"
   ]
  }
 ],
 "metadata": {
  "kernelspec": {
   "display_name": "Python 3 (ipykernel)",
   "language": "python",
   "name": "python3"
  },
  "language_info": {
   "codemirror_mode": {
    "name": "ipython",
    "version": 3
   },
   "file_extension": ".py",
   "mimetype": "text/x-python",
   "name": "python",
   "nbconvert_exporter": "python",
   "pygments_lexer": "ipython3",
   "version": "3.11.5"
  }
 },
 "nbformat": 4,
 "nbformat_minor": 5
}

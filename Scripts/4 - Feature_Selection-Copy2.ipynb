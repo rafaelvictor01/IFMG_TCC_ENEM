{
 "cells": [
  {
   "cell_type": "markdown",
   "id": "c4a0e7b9",
   "metadata": {},
   "source": [
    "# Script de seleção de caracteristicas dos clusters formados nas bases de dados do ENEM\n",
    "\n",
    "**Autor**: Rafael Victor Araujo Bernardes - rafaelvictor.bernardes@gmail.com"
   ]
  },
  {
   "cell_type": "code",
   "execution_count": 1,
   "id": "a6b822bd",
   "metadata": {},
   "outputs": [],
   "source": [
    "import pandas as pd\n",
    "import numpy as np\n",
    "from sklearn.model_selection import cross_val_score, train_test_split\n",
    "from sklearn.ensemble import RandomForestClassifier\n",
    "from sklearn.feature_selection import SelectKBest, chi2"
   ]
  },
  {
   "cell_type": "code",
   "execution_count": 2,
   "id": "0e1274b8",
   "metadata": {},
   "outputs": [],
   "source": [
    "# Variáveis de controle\n",
    "\n",
    "# ano = '2019'\n",
    "# ano = '2020'\n",
    "# ano = '2021'\n",
    "# ano = '2022'\n",
    "ano = '2023'\n",
    "\n",
    "DATASET_ENEM_PATH = f'D:/BASES_PRE_PROCESSADAS/PRE_PROCESSADOS_ENEM_{ano}.csv'"
   ]
  },
  {
   "cell_type": "code",
   "execution_count": 3,
   "id": "1456fa16",
   "metadata": {},
   "outputs": [],
   "source": [
    "microdadosEnem = pd.read_csv(DATASET_ENEM_PATH, sep=',', encoding='ISO-8859-1')"
   ]
  },
  {
   "cell_type": "code",
   "execution_count": 4,
   "id": "8ff28168",
   "metadata": {},
   "outputs": [
    {
     "data": {
      "text/plain": [
       "(2678264, 169)"
      ]
     },
     "execution_count": 4,
     "metadata": {},
     "output_type": "execute_result"
    }
   ],
   "source": [
    "microdadosEnem.shape"
   ]
  },
  {
   "cell_type": "code",
   "execution_count": 5,
   "id": "215e30aa",
   "metadata": {},
   "outputs": [
    {
     "data": {
      "text/plain": [
       "Index(['MEDIA_NOTAS', 'TP_FAIXA_ETARIA_1', 'TP_FAIXA_ETARIA_2',\n",
       "       'TP_FAIXA_ETARIA_3', 'TP_FAIXA_ETARIA_4', 'TP_FAIXA_ETARIA_5',\n",
       "       'TP_FAIXA_ETARIA_6', 'TP_FAIXA_ETARIA_7', 'TP_FAIXA_ETARIA_8',\n",
       "       'TP_FAIXA_ETARIA_9',\n",
       "       ...\n",
       "       'Q024_D', 'Q024_E', 'Q025_A', 'Q025_B', 'MACRO_REGIAO_CENTRO_OESTE',\n",
       "       'MACRO_REGIAO_NORDESTE', 'MACRO_REGIAO_NORTE', 'MACRO_REGIAO_SUDESTE',\n",
       "       'MACRO_REGIAO_SUL', 'K_Cluster'],\n",
       "      dtype='object', length=169)"
      ]
     },
     "execution_count": 5,
     "metadata": {},
     "output_type": "execute_result"
    }
   ],
   "source": [
    "microdadosEnem.columns"
   ]
  },
  {
   "cell_type": "code",
   "execution_count": 6,
   "id": "38c4c133",
   "metadata": {},
   "outputs": [],
   "source": [
    "def avaliar_melhor_k(X, y, max_k=20):\n",
    "    scores = []\n",
    "    \n",
    "    for k in range(1, min(max_k, X.shape[1]) + 1):\n",
    "        feature_selector = SelectKBest(score_func=chi2, k=k)  # Usando chi2 para ser consistente\n",
    "        X_new = feature_selector.fit_transform(X, y)\n",
    "        \n",
    "        # Usando RandomForest para avaliar a performance das features selecionadas\n",
    "        model = RandomForestClassifier(random_state=42)\n",
    "        score = cross_val_score(model, X_new, y, cv=5).mean()  # Validação cruzada com 5 folds\n",
    "        scores.append((k, score))\n",
    "    \n",
    "    # Encontrar o valor de k que maximiza o score\n",
    "    melhor_k = max(scores, key=lambda item: item[1])[0]\n",
    "    \n",
    "    print(f\"Melhor valor de k: {melhor_k}\")\n",
    "    return melhor_k, scores"
   ]
  },
  {
   "cell_type": "code",
   "execution_count": 7,
   "id": "238a22fd",
   "metadata": {},
   "outputs": [],
   "source": [
    "microdados_enem_features = [col for col in microdadosEnem.columns if col != 'MEDIA_NOTAS' and col != 'K_Cluster']"
   ]
  },
  {
   "cell_type": "code",
   "execution_count": 10,
   "id": "52f111eb",
   "metadata": {},
   "outputs": [],
   "source": [
    "# Amostragem estratificada para acelerar a análise (1% dos dados)\n",
    "\n",
    "microdados_sampled, _ = train_test_split(microdadosEnem, test_size=0.99, stratify=microdadosEnem['K_Cluster'], random_state=42)"
   ]
  },
  {
   "cell_type": "code",
   "execution_count": 11,
   "id": "dc460cd6",
   "metadata": {
    "scrolled": true
   },
   "outputs": [
    {
     "name": "stdout",
     "output_type": "stream",
     "text": [
      "Melhor valor de k: 20\n",
      "Cluster 0: Melhor valor de aproximado de k é: 20\n",
      "Cluster: 0; Features: Index(['TP_FAIXA_ETARIA_3', 'TP_ST_CONCLUSAO_1', 'TP_ST_CONCLUSAO_2',\n",
      "       'TP_ST_CONCLUSAO_3', 'TP_ESCOLA_1', 'TP_ESCOLA_2', 'Q006_B', 'Q010_A',\n",
      "       'Q010_B', 'Q013_A', 'Q013_B', 'Q014_A', 'Q014_B', 'Q016_A', 'Q016_B',\n",
      "       'Q018_B', 'Q024_A', 'Q024_B', 'Q025_A', 'MACRO_REGIAO_NORDESTE'],\n",
      "      dtype='object')\n",
      "Melhor valor de k: 19\n",
      "Cluster 1: Melhor valor de aproximado de k é: 19\n",
      "Cluster: 1; Features: Index(['TP_ST_CONCLUSAO_1', 'TP_ST_CONCLUSAO_2', 'TP_ESCOLA_1', 'TP_ESCOLA_2',\n",
      "       'Q006_B', 'Q008_B', 'Q008_C', 'Q010_A', 'Q010_B', 'Q013_A', 'Q013_B',\n",
      "       'Q014_A', 'Q014_B', 'Q016_A', 'Q016_B', 'Q018_B', 'Q021_B', 'Q022_B',\n",
      "       'Q024_A'],\n",
      "      dtype='object')\n",
      "Melhor valor de k: 20\n",
      "Cluster 2: Melhor valor de aproximado de k é: 20\n",
      "Cluster: 2; Features: Index(['TP_ESCOLA_3', 'Q001_G', 'Q002_G', 'Q003_E', 'Q004_E', 'Q006_L',\n",
      "       'Q007_B', 'Q008_D', 'Q008_E', 'Q010_C', 'Q012_C', 'Q017_B', 'Q018_B',\n",
      "       'Q019_D', 'Q019_E', 'Q021_B', 'Q022_E', 'Q024_C', 'Q024_D', 'Q024_E'],\n",
      "      dtype='object')\n",
      "Melhor valor de k: 20\n",
      "Cluster 3: Melhor valor de aproximado de k é: 20\n",
      "Cluster: 3; Features: Index(['TP_FAIXA_ETARIA_3', 'TP_ST_CONCLUSAO_1', 'TP_ST_CONCLUSAO_2',\n",
      "       'TP_ST_CONCLUSAO_3', 'TP_ESCOLA_1', 'TP_ESCOLA_2', 'Q006_B', 'Q006_G',\n",
      "       'Q008_C', 'Q010_A', 'Q010_B', 'Q013_B', 'Q014_A', 'Q014_B', 'Q016_A',\n",
      "       'Q016_B', 'Q019_C', 'Q022_B', 'Q024_A', 'Q024_B'],\n",
      "      dtype='object')\n",
      "Melhor valor de k: 20\n",
      "Cluster 4: Melhor valor de aproximado de k é: 20\n",
      "Cluster: 4; Features: Index(['TP_FAIXA_ETARIA_1', 'TP_FAIXA_ETARIA_2', 'TP_FAIXA_ETARIA_3',\n",
      "       'TP_ST_CONCLUSAO_1', 'TP_ST_CONCLUSAO_2', 'TP_ST_CONCLUSAO_3',\n",
      "       'TP_ESCOLA_1', 'TP_ESCOLA_2', 'TP_ESCOLA_3', 'Q004_A', 'Q006_B',\n",
      "       'Q010_A', 'Q010_B', 'Q013_B', 'Q014_A', 'Q014_B', 'Q016_A', 'Q016_B',\n",
      "       'Q024_B', 'MACRO_REGIAO_NORDESTE'],\n",
      "      dtype='object')\n"
     ]
    }
   ],
   "source": [
    "for cluster in np.sort(microdados_sampled.K_Cluster.unique()):\n",
    "    \n",
    "    # Aproximar o melhor valor de k\n",
    "    labels_binarias_sampled = (microdados_sampled['K_Cluster'] == cluster).astype(int)\n",
    "    X_sampled = microdados_sampled[microdados_enem_features]\n",
    "    melhor_k_aproximado, resultados = avaliar_melhor_k(X_sampled, labels_binarias_sampled)\n",
    "    print(f\"Cluster {cluster}: Melhor valor de aproximado de k é: {melhor_k_aproximado}\")\n",
    "    \n",
    "    # Selecionar features com o melhor valor de k aproximado\n",
    "    labels_binarias = (microdadosEnem['K_Cluster'] == cluster).astype(int)\n",
    "    feature_selector = SelectKBest(score_func=chi2, k=melhor_k_aproximado)\n",
    "    X = microdadosEnem[microdados_enem_features]\n",
    "    feature_selector.fit_transform(X, labels_binarias)\n",
    "    \n",
    "    # Exibir as features selecionadas\n",
    "    print(f\"Cluster: {cluster:d}; Features: {X.columns[feature_selector.get_support()]}\")"
   ]
  }
 ],
 "metadata": {
  "kernelspec": {
   "display_name": "Python 3 (ipykernel)",
   "language": "python",
   "name": "python3"
  },
  "language_info": {
   "codemirror_mode": {
    "name": "ipython",
    "version": 3
   },
   "file_extension": ".py",
   "mimetype": "text/x-python",
   "name": "python",
   "nbconvert_exporter": "python",
   "pygments_lexer": "ipython3",
   "version": "3.11.5"
  }
 },
 "nbformat": 4,
 "nbformat_minor": 5
}

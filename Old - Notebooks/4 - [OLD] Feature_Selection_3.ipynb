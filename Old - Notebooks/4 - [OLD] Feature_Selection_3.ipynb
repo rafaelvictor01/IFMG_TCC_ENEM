{
 "cells": [
  {
   "cell_type": "markdown",
   "id": "c4a0e7b9",
   "metadata": {},
   "source": [
    "# Script de seleção de caracteristicas dos clusters formados nas bases de dados do ENEM\n",
    "\n",
    "**Autor**: Rafael Victor Araujo Bernardes - rafaelvictor.bernardes@gmail.com"
   ]
  },
  {
   "cell_type": "code",
   "execution_count": 1,
   "id": "a6b822bd",
   "metadata": {},
   "outputs": [],
   "source": [
    "import pandas as pd\n",
    "import numpy as np\n",
    "from sklearn.model_selection import cross_val_score, train_test_split\n",
    "from sklearn.ensemble import RandomForestClassifier\n",
    "from sklearn.feature_selection import SelectKBest, chi2"
   ]
  },
  {
   "cell_type": "code",
   "execution_count": 2,
   "id": "0e1274b8",
   "metadata": {},
   "outputs": [],
   "source": [
    "# Variáveis de controle\n",
    "\n",
    "# ano = '2019'\n",
    "# ano = '2020'\n",
    "# ano = '2021'\n",
    "# ano = '2022'\n",
    "ano = '2023'\n",
    "\n",
    "DATASET_ENEM_PATH = f'D:/BASES_PRE_PROCESSADAS/PRE_PROCESSADOS_ENEM_{ano}.csv'"
   ]
  },
  {
   "cell_type": "code",
   "execution_count": 3,
   "id": "1456fa16",
   "metadata": {},
   "outputs": [],
   "source": [
    "microdadosEnem = pd.read_csv(DATASET_ENEM_PATH, sep=',', encoding='ISO-8859-1')"
   ]
  },
  {
   "cell_type": "code",
   "execution_count": 4,
   "id": "8ff28168",
   "metadata": {},
   "outputs": [
    {
     "data": {
      "text/plain": [
       "(2678264, 169)"
      ]
     },
     "execution_count": 4,
     "metadata": {},
     "output_type": "execute_result"
    }
   ],
   "source": [
    "microdadosEnem.shape"
   ]
  },
  {
   "cell_type": "code",
   "execution_count": 5,
   "id": "215e30aa",
   "metadata": {},
   "outputs": [
    {
     "data": {
      "text/plain": [
       "Index(['MEDIA_NOTAS', 'TP_FAIXA_ETARIA_1', 'TP_FAIXA_ETARIA_2',\n",
       "       'TP_FAIXA_ETARIA_3', 'TP_FAIXA_ETARIA_4', 'TP_FAIXA_ETARIA_5',\n",
       "       'TP_FAIXA_ETARIA_6', 'TP_FAIXA_ETARIA_7', 'TP_FAIXA_ETARIA_8',\n",
       "       'TP_FAIXA_ETARIA_9',\n",
       "       ...\n",
       "       'Q024_D', 'Q024_E', 'Q025_A', 'Q025_B', 'MACRO_REGIAO_CENTRO_OESTE',\n",
       "       'MACRO_REGIAO_NORDESTE', 'MACRO_REGIAO_NORTE', 'MACRO_REGIAO_SUDESTE',\n",
       "       'MACRO_REGIAO_SUL', 'K_Cluster'],\n",
       "      dtype='object', length=169)"
      ]
     },
     "execution_count": 5,
     "metadata": {},
     "output_type": "execute_result"
    }
   ],
   "source": [
    "microdadosEnem.columns"
   ]
  },
  {
   "cell_type": "code",
   "execution_count": 6,
   "id": "38c4c133",
   "metadata": {},
   "outputs": [],
   "source": [
    "def avaliar_melhor_k(X, y, max_k=33):\n",
    "    scores = []\n",
    "    \n",
    "    for k in range(1, min(max_k, X.shape[1]) + 1):\n",
    "        feature_selector = SelectKBest(score_func=chi2, k=k)  # Usando chi2 para ser consistente\n",
    "        X_new = feature_selector.fit_transform(X, y)\n",
    "        \n",
    "        # Usando RandomForest para avaliar a performance das features selecionadas\n",
    "        model = RandomForestClassifier(random_state=42)\n",
    "        score = cross_val_score(model, X_new, y, cv=5).mean()  # Validação cruzada com 5 folds\n",
    "        scores.append((k, score))\n",
    "    \n",
    "    # Encontrar o valor de k que maximiza o score\n",
    "    melhor_k = max(scores, key=lambda item: item[1])[0]\n",
    "    \n",
    "    print(f\"Melhor valor de k: {melhor_k}\")\n",
    "    return melhor_k, scores"
   ]
  },
  {
   "cell_type": "code",
   "execution_count": 7,
   "id": "238a22fd",
   "metadata": {},
   "outputs": [],
   "source": [
    "microdados_enem_features = [col for col in microdadosEnem.columns if col != 'MEDIA_NOTAS' and col != 'K_Cluster']"
   ]
  },
  {
   "cell_type": "code",
   "execution_count": 8,
   "id": "52f111eb",
   "metadata": {},
   "outputs": [],
   "source": [
    "# Amostragem estratificada para acelerar a análise (1% dos dados)\n",
    "\n",
    "microdados_sampled, _ = train_test_split(microdadosEnem, test_size=0.99, stratify=microdadosEnem['K_Cluster'], random_state=42)"
   ]
  },
  {
   "cell_type": "code",
   "execution_count": 9,
   "id": "dc460cd6",
   "metadata": {
    "scrolled": true
   },
   "outputs": [
    {
     "name": "stdout",
     "output_type": "stream",
     "text": [
      "Melhor valor de k: 33\n",
      "Cluster 0: Melhor valor de aproximado de k é: 33\n",
      "Cluster: 0; Features selecionadas pelo chi2: ['TP_FAIXA_ETARIA_1', 'TP_FAIXA_ETARIA_3', 'TP_COR_RACA_1', 'TP_ST_CONCLUSAO_1', 'TP_ST_CONCLUSAO_2', 'TP_ST_CONCLUSAO_3', 'TP_ESCOLA_1', 'TP_ESCOLA_2', 'Q003_A', 'Q003_D', 'Q004_A', 'Q004_D', 'Q006_B', 'Q008_B', 'Q008_C', 'Q010_A', 'Q010_B', 'Q013_A', 'Q013_B', 'Q014_A', 'Q014_B', 'Q016_A', 'Q016_B', 'Q018_B', 'Q019_C', 'Q021_B', 'Q022_B', 'Q022_E', 'Q024_A', 'Q024_B', 'Q025_A', 'MACRO_REGIAO_NORDESTE', 'MACRO_REGIAO_SUDESTE']\n",
      "Melhor valor de k: 33\n",
      "Cluster 1: Melhor valor de aproximado de k é: 33\n",
      "Cluster: 1; Features selecionadas pelo chi2: ['TP_FAIXA_ETARIA_3', 'TP_COR_RACA_1', 'TP_ST_CONCLUSAO_1', 'TP_ST_CONCLUSAO_2', 'TP_ESCOLA_1', 'TP_ESCOLA_2', 'TP_ESCOLA_3', 'Q001_B', 'Q002_B', 'Q003_A', 'Q004_A', 'Q004_D', 'Q006_B', 'Q008_B', 'Q008_C', 'Q009_B', 'Q009_D', 'Q010_A', 'Q010_B', 'Q010_C', 'Q013_A', 'Q013_B', 'Q014_A', 'Q014_B', 'Q016_A', 'Q016_B', 'Q018_B', 'Q019_C', 'Q021_B', 'Q022_B', 'Q022_E', 'Q024_A', 'MACRO_REGIAO_NORDESTE']\n",
      "Melhor valor de k: 32\n",
      "Cluster 2: Melhor valor de aproximado de k é: 32\n",
      "Cluster: 2; Features selecionadas pelo chi2: ['TP_ESCOLA_3', 'Q001_G', 'Q002_G', 'Q003_E', 'Q004_E', 'Q006_L', 'Q007_B', 'Q007_D', 'Q008_B', 'Q008_D', 'Q008_E', 'Q009_E', 'Q010_A', 'Q010_C', 'Q012_C', 'Q013_C', 'Q015_B', 'Q016_A', 'Q017_B', 'Q018_A', 'Q018_B', 'Q019_B', 'Q019_D', 'Q019_E', 'Q020_B', 'Q021_B', 'Q022_E', 'Q023_B', 'Q024_A', 'Q024_C', 'Q024_D', 'Q024_E']\n",
      "Melhor valor de k: 29\n",
      "Cluster 3: Melhor valor de aproximado de k é: 29\n",
      "Cluster: 3; Features selecionadas pelo chi2: ['TP_FAIXA_ETARIA_1', 'TP_FAIXA_ETARIA_3', 'TP_ST_CONCLUSAO_1', 'TP_ST_CONCLUSAO_2', 'TP_ST_CONCLUSAO_3', 'TP_ESCOLA_1', 'TP_ESCOLA_2', 'TP_ESCOLA_3', 'Q003_A', 'Q003_D', 'Q004_A', 'Q004_D', 'Q006_B', 'Q006_G', 'Q008_B', 'Q008_C', 'Q010_A', 'Q010_B', 'Q013_A', 'Q013_B', 'Q014_A', 'Q014_B', 'Q016_A', 'Q016_B', 'Q019_C', 'Q022_B', 'Q024_A', 'Q024_B', 'Q025_A']\n",
      "Melhor valor de k: 32\n",
      "Cluster 4: Melhor valor de aproximado de k é: 32\n",
      "Cluster: 4; Features selecionadas pelo chi2: ['TP_FAIXA_ETARIA_1', 'TP_FAIXA_ETARIA_2', 'TP_FAIXA_ETARIA_3', 'TP_ST_CONCLUSAO_1', 'TP_ST_CONCLUSAO_2', 'TP_ST_CONCLUSAO_3', 'TP_ESCOLA_1', 'TP_ESCOLA_2', 'TP_ESCOLA_3', 'Q003_A', 'Q004_A', 'Q006_B', 'Q006_D', 'Q006_E', 'Q006_L', 'Q008_C', 'Q009_B', 'Q010_A', 'Q010_B', 'Q013_A', 'Q013_B', 'Q014_A', 'Q014_B', 'Q016_A', 'Q016_B', 'Q022_B', 'Q022_D', 'Q024_B', 'Q025_A', 'MACRO_REGIAO_NORDESTE', 'MACRO_REGIAO_SUDESTE', 'MACRO_REGIAO_SUL']\n"
     ]
    }
   ],
   "source": [
    "for cluster in np.sort(microdados_sampled.K_Cluster.unique()):\n",
    "    \n",
    "    # Aproximar o melhor valor de k\n",
    "    labels_binarias_sampled = (microdados_sampled['K_Cluster'] == cluster).astype(int)\n",
    "    X_sampled = microdados_sampled[microdados_enem_features]\n",
    "    melhor_k_aproximado, resultados = avaliar_melhor_k(X_sampled, labels_binarias_sampled)\n",
    "    print(f\"Cluster {cluster}: Melhor valor de aproximado de k é: {melhor_k_aproximado}\")\n",
    "    \n",
    "    # Seleção de features com o método SelectKBest (chi2)\n",
    "    labels_binarias = (microdadosEnem['K_Cluster'] == cluster).astype(int)\n",
    "    X = microdadosEnem[microdados_enem_features]\n",
    "    selector_chi2 = SelectKBest(score_func=chi2, k=melhor_k_aproximado)\n",
    "    selector_chi2.fit_transform(X, labels_binarias)\n",
    "    \n",
    "    features_chi2 = X.columns[selector_chi2.get_support()]\n",
    "    print(f\"Cluster: {cluster:d}; Features selecionadas pelo chi2: {list(features_chi2)}\")\n",
    "    \n",
    "    # Seleção de features com RandomForestClassifier\n",
    "#     rf = RandomForestClassifier(random_state=42)\n",
    "#     rf.fit(X, labels_binarias)\n",
    "    \n",
    "    # Importância das características\n",
    "#     importancias = rf.feature_importances_\n",
    "#     indices_rf = np.argsort(importancias)[::-1][:melhor_k_aproximado]  # Selecionar as top 'melhor_k_aproximado' features\n",
    "#     features_rf = X.columns[indices_rf]\n",
    "#     print(f\"Cluster: {cluster:d}; Features selecionadas pelo RandomForest: {list(features_rf)}\")\n",
    "    \n",
    "    # Interseção entre as features selecionadas por ambos os métodos\n",
    "#     intersecao_features = np.intersect1d(features_chi2, features_rf)\n",
    "#     print(f\"Cluster: {cluster:d}; Interseção das features: {list(intersecao_features)}\")"
   ]
  }
 ],
 "metadata": {
  "kernelspec": {
   "display_name": "Python 3 (ipykernel)",
   "language": "python",
   "name": "python3"
  },
  "language_info": {
   "codemirror_mode": {
    "name": "ipython",
    "version": 3
   },
   "file_extension": ".py",
   "mimetype": "text/x-python",
   "name": "python",
   "nbconvert_exporter": "python",
   "pygments_lexer": "ipython3",
   "version": "3.11.5"
  }
 },
 "nbformat": 4,
 "nbformat_minor": 5
}

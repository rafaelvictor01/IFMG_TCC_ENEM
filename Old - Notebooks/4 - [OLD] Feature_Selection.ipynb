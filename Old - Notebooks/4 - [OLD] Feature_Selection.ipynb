{
 "cells": [
  {
   "cell_type": "markdown",
   "id": "c4a0e7b9",
   "metadata": {},
   "source": [
    "# Script de seleção de caracteristicas dos clusters formados nas bases de dados do ENEM\n",
    "\n",
    "**Autor**: Rafael Victor Araujo Bernardes - rafaelvictor.bernardes@gmail.com"
   ]
  },
  {
   "cell_type": "code",
   "execution_count": 1,
   "id": "a6b822bd",
   "metadata": {},
   "outputs": [],
   "source": [
    "import pandas as pd\n",
    "import numpy as np\n",
    "import matplotlib.pyplot as plt"
   ]
  },
  {
   "cell_type": "code",
   "execution_count": 2,
   "id": "0e1274b8",
   "metadata": {},
   "outputs": [],
   "source": [
    "# Variáveis de controle\n",
    "\n",
    "# ano = '2019'\n",
    "# ano = '2020'\n",
    "# ano = '2021'\n",
    "# ano = '2022'\n",
    "ano = '2023'\n",
    "\n",
    "DATASET_ENEM_PATH = 'D:\\BASES_PRE_PROCESSADAS\\PRE_PROCESSADOS_ENEM_' + ano + '.csv'"
   ]
  },
  {
   "cell_type": "code",
   "execution_count": 3,
   "id": "1456fa16",
   "metadata": {},
   "outputs": [],
   "source": [
    "microdadosEnem = pd.read_csv(DATASET_ENEM_PATH, sep=',', encoding='ISO-8859-1')"
   ]
  },
  {
   "cell_type": "code",
   "execution_count": 4,
   "id": "8ff28168",
   "metadata": {},
   "outputs": [
    {
     "data": {
      "text/plain": [
       "(2678264, 169)"
      ]
     },
     "execution_count": 4,
     "metadata": {},
     "output_type": "execute_result"
    }
   ],
   "source": [
    "microdadosEnem.shape"
   ]
  },
  {
   "cell_type": "code",
   "execution_count": 5,
   "id": "dac36c63",
   "metadata": {},
   "outputs": [
    {
     "data": {
      "text/plain": [
       "Index(['MEDIA_NOTAS', 'TP_FAIXA_ETARIA_1', 'TP_FAIXA_ETARIA_2',\n",
       "       'TP_FAIXA_ETARIA_3', 'TP_FAIXA_ETARIA_4', 'TP_FAIXA_ETARIA_5',\n",
       "       'TP_FAIXA_ETARIA_6', 'TP_FAIXA_ETARIA_7', 'TP_FAIXA_ETARIA_8',\n",
       "       'TP_FAIXA_ETARIA_9',\n",
       "       ...\n",
       "       'Q024_D', 'Q024_E', 'Q025_A', 'Q025_B', 'MACRO_REGIAO_CENTRO_OESTE',\n",
       "       'MACRO_REGIAO_NORDESTE', 'MACRO_REGIAO_NORTE', 'MACRO_REGIAO_SUDESTE',\n",
       "       'MACRO_REGIAO_SUL', 'K_Cluster'],\n",
       "      dtype='object', length=169)"
      ]
     },
     "execution_count": 5,
     "metadata": {},
     "output_type": "execute_result"
    }
   ],
   "source": [
    "microdadosEnem.columns"
   ]
  },
  {
   "cell_type": "code",
   "execution_count": 6,
   "id": "215e30aa",
   "metadata": {},
   "outputs": [
    {
     "data": {
      "text/html": [
       "<div>\n",
       "<style scoped>\n",
       "    .dataframe tbody tr th:only-of-type {\n",
       "        vertical-align: middle;\n",
       "    }\n",
       "\n",
       "    .dataframe tbody tr th {\n",
       "        vertical-align: top;\n",
       "    }\n",
       "\n",
       "    .dataframe thead th {\n",
       "        text-align: right;\n",
       "    }\n",
       "</style>\n",
       "<table border=\"1\" class=\"dataframe\">\n",
       "  <thead>\n",
       "    <tr style=\"text-align: right;\">\n",
       "      <th></th>\n",
       "      <th>MEDIA_NOTAS</th>\n",
       "      <th>TP_FAIXA_ETARIA_1</th>\n",
       "      <th>TP_FAIXA_ETARIA_2</th>\n",
       "      <th>TP_FAIXA_ETARIA_3</th>\n",
       "      <th>TP_FAIXA_ETARIA_4</th>\n",
       "      <th>TP_FAIXA_ETARIA_5</th>\n",
       "      <th>TP_FAIXA_ETARIA_6</th>\n",
       "      <th>TP_FAIXA_ETARIA_7</th>\n",
       "      <th>TP_FAIXA_ETARIA_8</th>\n",
       "      <th>TP_FAIXA_ETARIA_9</th>\n",
       "      <th>...</th>\n",
       "      <th>Q024_D</th>\n",
       "      <th>Q024_E</th>\n",
       "      <th>Q025_A</th>\n",
       "      <th>Q025_B</th>\n",
       "      <th>MACRO_REGIAO_CENTRO_OESTE</th>\n",
       "      <th>MACRO_REGIAO_NORDESTE</th>\n",
       "      <th>MACRO_REGIAO_NORTE</th>\n",
       "      <th>MACRO_REGIAO_SUDESTE</th>\n",
       "      <th>MACRO_REGIAO_SUL</th>\n",
       "      <th>K_Cluster</th>\n",
       "    </tr>\n",
       "  </thead>\n",
       "  <tbody>\n",
       "    <tr>\n",
       "      <th>0</th>\n",
       "      <td>507.94</td>\n",
       "      <td>False</td>\n",
       "      <td>False</td>\n",
       "      <td>False</td>\n",
       "      <td>False</td>\n",
       "      <td>False</td>\n",
       "      <td>True</td>\n",
       "      <td>False</td>\n",
       "      <td>False</td>\n",
       "      <td>False</td>\n",
       "      <td>...</td>\n",
       "      <td>False</td>\n",
       "      <td>False</td>\n",
       "      <td>False</td>\n",
       "      <td>True</td>\n",
       "      <td>False</td>\n",
       "      <td>False</td>\n",
       "      <td>False</td>\n",
       "      <td>False</td>\n",
       "      <td>True</td>\n",
       "      <td>3</td>\n",
       "    </tr>\n",
       "    <tr>\n",
       "      <th>1</th>\n",
       "      <td>564.28</td>\n",
       "      <td>False</td>\n",
       "      <td>True</td>\n",
       "      <td>False</td>\n",
       "      <td>False</td>\n",
       "      <td>False</td>\n",
       "      <td>False</td>\n",
       "      <td>False</td>\n",
       "      <td>False</td>\n",
       "      <td>False</td>\n",
       "      <td>...</td>\n",
       "      <td>False</td>\n",
       "      <td>False</td>\n",
       "      <td>False</td>\n",
       "      <td>True</td>\n",
       "      <td>False</td>\n",
       "      <td>True</td>\n",
       "      <td>False</td>\n",
       "      <td>False</td>\n",
       "      <td>False</td>\n",
       "      <td>0</td>\n",
       "    </tr>\n",
       "    <tr>\n",
       "      <th>2</th>\n",
       "      <td>425.38</td>\n",
       "      <td>False</td>\n",
       "      <td>False</td>\n",
       "      <td>True</td>\n",
       "      <td>False</td>\n",
       "      <td>False</td>\n",
       "      <td>False</td>\n",
       "      <td>False</td>\n",
       "      <td>False</td>\n",
       "      <td>False</td>\n",
       "      <td>...</td>\n",
       "      <td>False</td>\n",
       "      <td>False</td>\n",
       "      <td>True</td>\n",
       "      <td>False</td>\n",
       "      <td>False</td>\n",
       "      <td>True</td>\n",
       "      <td>False</td>\n",
       "      <td>False</td>\n",
       "      <td>False</td>\n",
       "      <td>0</td>\n",
       "    </tr>\n",
       "    <tr>\n",
       "      <th>3</th>\n",
       "      <td>617.12</td>\n",
       "      <td>False</td>\n",
       "      <td>False</td>\n",
       "      <td>False</td>\n",
       "      <td>False</td>\n",
       "      <td>False</td>\n",
       "      <td>False</td>\n",
       "      <td>False</td>\n",
       "      <td>False</td>\n",
       "      <td>False</td>\n",
       "      <td>...</td>\n",
       "      <td>False</td>\n",
       "      <td>False</td>\n",
       "      <td>False</td>\n",
       "      <td>True</td>\n",
       "      <td>False</td>\n",
       "      <td>False</td>\n",
       "      <td>False</td>\n",
       "      <td>True</td>\n",
       "      <td>False</td>\n",
       "      <td>3</td>\n",
       "    </tr>\n",
       "    <tr>\n",
       "      <th>4</th>\n",
       "      <td>697.66</td>\n",
       "      <td>False</td>\n",
       "      <td>False</td>\n",
       "      <td>False</td>\n",
       "      <td>False</td>\n",
       "      <td>False</td>\n",
       "      <td>False</td>\n",
       "      <td>False</td>\n",
       "      <td>True</td>\n",
       "      <td>False</td>\n",
       "      <td>...</td>\n",
       "      <td>False</td>\n",
       "      <td>False</td>\n",
       "      <td>False</td>\n",
       "      <td>True</td>\n",
       "      <td>False</td>\n",
       "      <td>True</td>\n",
       "      <td>False</td>\n",
       "      <td>False</td>\n",
       "      <td>False</td>\n",
       "      <td>3</td>\n",
       "    </tr>\n",
       "  </tbody>\n",
       "</table>\n",
       "<p>5 rows × 169 columns</p>\n",
       "</div>"
      ],
      "text/plain": [
       "   MEDIA_NOTAS  TP_FAIXA_ETARIA_1  TP_FAIXA_ETARIA_2  TP_FAIXA_ETARIA_3  \\\n",
       "0       507.94              False              False              False   \n",
       "1       564.28              False               True              False   \n",
       "2       425.38              False              False               True   \n",
       "3       617.12              False              False              False   \n",
       "4       697.66              False              False              False   \n",
       "\n",
       "   TP_FAIXA_ETARIA_4  TP_FAIXA_ETARIA_5  TP_FAIXA_ETARIA_6  TP_FAIXA_ETARIA_7  \\\n",
       "0              False              False               True              False   \n",
       "1              False              False              False              False   \n",
       "2              False              False              False              False   \n",
       "3              False              False              False              False   \n",
       "4              False              False              False              False   \n",
       "\n",
       "   TP_FAIXA_ETARIA_8  TP_FAIXA_ETARIA_9  ...  Q024_D  Q024_E  Q025_A  Q025_B  \\\n",
       "0              False              False  ...   False   False   False    True   \n",
       "1              False              False  ...   False   False   False    True   \n",
       "2              False              False  ...   False   False    True   False   \n",
       "3              False              False  ...   False   False   False    True   \n",
       "4               True              False  ...   False   False   False    True   \n",
       "\n",
       "   MACRO_REGIAO_CENTRO_OESTE  MACRO_REGIAO_NORDESTE  MACRO_REGIAO_NORTE  \\\n",
       "0                      False                  False               False   \n",
       "1                      False                   True               False   \n",
       "2                      False                   True               False   \n",
       "3                      False                  False               False   \n",
       "4                      False                   True               False   \n",
       "\n",
       "   MACRO_REGIAO_SUDESTE  MACRO_REGIAO_SUL  K_Cluster  \n",
       "0                 False              True          3  \n",
       "1                 False             False          0  \n",
       "2                 False             False          0  \n",
       "3                  True             False          3  \n",
       "4                 False             False          3  \n",
       "\n",
       "[5 rows x 169 columns]"
      ]
     },
     "execution_count": 6,
     "metadata": {},
     "output_type": "execute_result"
    }
   ],
   "source": [
    "microdadosEnem.head()"
   ]
  },
  {
   "cell_type": "markdown",
   "id": "a4465c55",
   "metadata": {},
   "source": [
    "# Métodos para seleção de caracteristicas\n",
    "\n",
    "https://medium.com/@daython3/mastering-the-art-of-feature-selection-python-techniques-for-visualizing-feature-importance-cacf406e6b71"
   ]
  },
  {
   "cell_type": "markdown",
   "id": "35081348",
   "metadata": {},
   "source": [
    "## chi2\n",
    "\n",
    "https://medium.com/@matheusventura/teste-qui-quadrado-a95cb5ba8c66"
   ]
  },
  {
   "cell_type": "code",
   "execution_count": null,
   "id": "238a22fd",
   "metadata": {},
   "outputs": [],
   "source": [
    "from sklearn.feature_selection import chi2\n",
    "\n",
    "colunas_para_analise = [col for col in microdadosEnem.columns if col != 'MEDIA_NOTAS' and col != 'K_Cluster']\n",
    "\n",
    "for cluster in np.sort(microdadosEnem.K_Cluster.unique()):\n",
    "    \n",
    "    # Criar a coluna de labels binários (1 se é do cluster atual, 0 caso contrário)\n",
    "    labels_binarias = (microdadosEnem['K_Cluster'] == cluster).astype(int)\n",
    "    \n",
    "    # Calcular estatística Chi-Quadrado\n",
    "    chi2_results = chi2(microdadosEnem[colunas_para_analise].values, labels_binarias)\n",
    "    chi2_scores = chi2_results[0]\n",
    "    p_values = chi2_results[1]\n",
    "    \n",
    "    # Definir limites mais rigorosos de relevância e significância estatística\n",
    "    thresh = 80000 # Testes anteriores feitos com: (1gl) 3.84; (2gl) 5.99 (4gl) 10.83 (6gl) 12.59 (7gl) 14.07\n",
    "    pval_thresh = 0.01 # Testes anteriores feitos com: (default) 0.05 (rigoroso) 0.01\n",
    "    \n",
    "    # Selecionar características relevantes e estatisticamente significativas\n",
    "    mask = (chi2_scores >= thresh) & (p_values <= pval_thresh)\n",
    "    relevant_features = pd.Index(colunas_para_analise)[mask]\n",
    "    relevant_scores = chi2_scores[mask]\n",
    "    \n",
    "    # Combinar características e suas pontuações em um DataFrame e ordenar\n",
    "    relevant_df = pd.DataFrame({'Feature': relevant_features, 'Chi2 Score': relevant_scores})\n",
    "    relevant_df = relevant_df.sort_values(by='Chi2 Score', ascending=False)\n",
    "    \n",
    "    # Exibir resultados para o cluster atual\n",
    "    print()\n",
    "    print(f\"============ Características mais relevantes para o Cluster {cluster} ============\")\n",
    "    print()\n",
    "    for _, row in relevant_df.iterrows():\n",
    "        print(f\"{cluster:d};{row['Feature']};{row['Chi2 Score']:.2f}\")"
   ]
  },
  {
   "cell_type": "markdown",
   "id": "0ea3e66c",
   "metadata": {},
   "source": [
    "## Seleção Univariada com SelectKBest e f_classif\n",
    "\n",
    "Avalia a correlação linear entre cada característica e a variável alvo: Cluster analisado"
   ]
  },
  {
   "cell_type": "markdown",
   "id": "b211271b",
   "metadata": {},
   "source": [
    "### Determinando o melhor número de K para descrever a base"
   ]
  },
  {
   "cell_type": "code",
   "execution_count": 7,
   "id": "64a4df41",
   "metadata": {},
   "outputs": [
    {
     "data": {
      "text/plain": [
       "((1339132, 167), (1339132, 167), (1339132,), (1339132,))"
      ]
     },
     "execution_count": 7,
     "metadata": {},
     "output_type": "execute_result"
    }
   ],
   "source": [
    "from sklearn.model_selection import train_test_split\n",
    "\n",
    "colunas_para_analise = [col for col in microdadosEnem.columns if col not in ['MEDIA_NOTAS', 'K_Cluster']]\n",
    "\n",
    "Xtrain, Xval, Ytrain, Yval = train_test_split(microdadosEnem[colunas_para_analise], microdadosEnem['K_Cluster'], train_size=0.5, random_state=72769)\n",
    "Xtrain.shape, Xval.shape, Ytrain.shape, Yval.shape"
   ]
  },
  {
   "cell_type": "code",
   "execution_count": 8,
   "id": "dad1493a",
   "metadata": {},
   "outputs": [
    {
     "data": {
      "text/plain": [
       "167"
      ]
     },
     "execution_count": 8,
     "metadata": {},
     "output_type": "execute_result"
    }
   ],
   "source": [
    "microdadosEnem[colunas_para_analise].shape[1]"
   ]
  },
  {
   "cell_type": "code",
   "execution_count": 12,
   "id": "be138cfd",
   "metadata": {},
   "outputs": [
    {
     "name": "stdout",
     "output_type": "stream",
     "text": [
      "1;1.22\n",
      "9;0.35\n",
      "17;0.22\n",
      "25;0.16\n",
      "33;0.15\n",
      "41;0.12\n",
      "49;0.11\n",
      "57;0.09\n",
      "65;0.09\n",
      "73;0.08\n",
      "81;0.07\n",
      "89;0.06\n",
      "97;0.06\n",
      "105;0.06\n",
      "113;0.06\n",
      "121;0.06\n",
      "129;0.06\n",
      "137;0.06\n",
      "145;0.06\n",
      "153;0.06\n",
      "161;0.06\n"
     ]
    }
   ],
   "source": [
    "from sklearn.feature_selection import SelectKBest, f_classif, SelectPercentile\n",
    "from sklearn.metrics import mean_absolute_error\n",
    "from sklearn.ensemble import RandomForestClassifier\n",
    "\n",
    "k_vs_score = []\n",
    "for k in range(1, microdadosEnem[colunas_para_analise].shape[1] + 1, 8):\n",
    "    \n",
    "    selector = SelectKBest(score_func=f_classif, k=k)\n",
    "    Xtrain2 = selector.fit_transform(Xtrain, Ytrain)\n",
    "    Xval2 = selector.transform(Xval)\n",
    "    \n",
    "    mdl = RandomForestClassifier(n_estimators=100, n_jobs=-1, random_state=72769)\n",
    "    mdl.fit(Xtrain2, Ytrain)\n",
    "    \n",
    "    p = mdl.predict(Xval2)\n",
    "    score = mean_absolute_error(Yval, p )\n",
    "    \n",
    "    print(f\"{k:d};{score:.2f}\")\n",
    "    k_vs_score.append(score)"
   ]
  },
  {
   "cell_type": "code",
   "execution_count": 13,
   "id": "a31e3d9a",
   "metadata": {},
   "outputs": [
    {
     "ename": "ValueError",
     "evalue": "x and y must have same first dimension, but have shapes (9,) and (21,)",
     "output_type": "error",
     "traceback": [
      "\u001b[1;31m---------------------------------------------------------------------------\u001b[0m",
      "\u001b[1;31mValueError\u001b[0m                                Traceback (most recent call last)",
      "Cell \u001b[1;32mIn[13], line 3\u001b[0m\n\u001b[0;32m      1\u001b[0m \u001b[38;5;66;03m# Plotar a soma dos scores F para diferentes valores de k\u001b[39;00m\n\u001b[0;32m      2\u001b[0m plt\u001b[38;5;241m.\u001b[39mfigure(figsize\u001b[38;5;241m=\u001b[39m(\u001b[38;5;241m10\u001b[39m, \u001b[38;5;241m6\u001b[39m))\n\u001b[1;32m----> 3\u001b[0m plt\u001b[38;5;241m.\u001b[39mplot(\u001b[38;5;28mrange\u001b[39m(\u001b[38;5;241m1\u001b[39m, microdadosEnem[colunas_para_analise]\u001b[38;5;241m.\u001b[39mshape[\u001b[38;5;241m1\u001b[39m] \u001b[38;5;241m+\u001b[39m \u001b[38;5;241m1\u001b[39m, \u001b[38;5;241m20\u001b[39m), k_vs_score, marker\u001b[38;5;241m=\u001b[39m\u001b[38;5;124m'\u001b[39m\u001b[38;5;124mo\u001b[39m\u001b[38;5;124m'\u001b[39m)\n\u001b[0;32m      4\u001b[0m plt\u001b[38;5;241m.\u001b[39mxlabel(\u001b[38;5;124m'\u001b[39m\u001b[38;5;124mNúmero de Características (k)\u001b[39m\u001b[38;5;124m'\u001b[39m)\n\u001b[0;32m      5\u001b[0m plt\u001b[38;5;241m.\u001b[39mylabel(\u001b[38;5;124m'\u001b[39m\u001b[38;5;124mSoma dos Scores F\u001b[39m\u001b[38;5;124m'\u001b[39m)\n",
      "File \u001b[1;32m~\\anaconda3\\Lib\\site-packages\\matplotlib\\pyplot.py:2812\u001b[0m, in \u001b[0;36mplot\u001b[1;34m(scalex, scaley, data, *args, **kwargs)\u001b[0m\n\u001b[0;32m   2810\u001b[0m \u001b[38;5;129m@_copy_docstring_and_deprecators\u001b[39m(Axes\u001b[38;5;241m.\u001b[39mplot)\n\u001b[0;32m   2811\u001b[0m \u001b[38;5;28;01mdef\u001b[39;00m \u001b[38;5;21mplot\u001b[39m(\u001b[38;5;241m*\u001b[39margs, scalex\u001b[38;5;241m=\u001b[39m\u001b[38;5;28;01mTrue\u001b[39;00m, scaley\u001b[38;5;241m=\u001b[39m\u001b[38;5;28;01mTrue\u001b[39;00m, data\u001b[38;5;241m=\u001b[39m\u001b[38;5;28;01mNone\u001b[39;00m, \u001b[38;5;241m*\u001b[39m\u001b[38;5;241m*\u001b[39mkwargs):\n\u001b[1;32m-> 2812\u001b[0m     \u001b[38;5;28;01mreturn\u001b[39;00m gca()\u001b[38;5;241m.\u001b[39mplot(\n\u001b[0;32m   2813\u001b[0m         \u001b[38;5;241m*\u001b[39margs, scalex\u001b[38;5;241m=\u001b[39mscalex, scaley\u001b[38;5;241m=\u001b[39mscaley,\n\u001b[0;32m   2814\u001b[0m         \u001b[38;5;241m*\u001b[39m\u001b[38;5;241m*\u001b[39m({\u001b[38;5;124m\"\u001b[39m\u001b[38;5;124mdata\u001b[39m\u001b[38;5;124m\"\u001b[39m: data} \u001b[38;5;28;01mif\u001b[39;00m data \u001b[38;5;129;01mis\u001b[39;00m \u001b[38;5;129;01mnot\u001b[39;00m \u001b[38;5;28;01mNone\u001b[39;00m \u001b[38;5;28;01melse\u001b[39;00m {}), \u001b[38;5;241m*\u001b[39m\u001b[38;5;241m*\u001b[39mkwargs)\n",
      "File \u001b[1;32m~\\anaconda3\\Lib\\site-packages\\matplotlib\\axes\\_axes.py:1688\u001b[0m, in \u001b[0;36mAxes.plot\u001b[1;34m(self, scalex, scaley, data, *args, **kwargs)\u001b[0m\n\u001b[0;32m   1445\u001b[0m \u001b[38;5;250m\u001b[39m\u001b[38;5;124;03m\"\"\"\u001b[39;00m\n\u001b[0;32m   1446\u001b[0m \u001b[38;5;124;03mPlot y versus x as lines and/or markers.\u001b[39;00m\n\u001b[0;32m   1447\u001b[0m \n\u001b[1;32m   (...)\u001b[0m\n\u001b[0;32m   1685\u001b[0m \u001b[38;5;124;03m(``'green'``) or hex strings (``'#008000'``).\u001b[39;00m\n\u001b[0;32m   1686\u001b[0m \u001b[38;5;124;03m\"\"\"\u001b[39;00m\n\u001b[0;32m   1687\u001b[0m kwargs \u001b[38;5;241m=\u001b[39m cbook\u001b[38;5;241m.\u001b[39mnormalize_kwargs(kwargs, mlines\u001b[38;5;241m.\u001b[39mLine2D)\n\u001b[1;32m-> 1688\u001b[0m lines \u001b[38;5;241m=\u001b[39m [\u001b[38;5;241m*\u001b[39m\u001b[38;5;28mself\u001b[39m\u001b[38;5;241m.\u001b[39m_get_lines(\u001b[38;5;241m*\u001b[39margs, data\u001b[38;5;241m=\u001b[39mdata, \u001b[38;5;241m*\u001b[39m\u001b[38;5;241m*\u001b[39mkwargs)]\n\u001b[0;32m   1689\u001b[0m \u001b[38;5;28;01mfor\u001b[39;00m line \u001b[38;5;129;01min\u001b[39;00m lines:\n\u001b[0;32m   1690\u001b[0m     \u001b[38;5;28mself\u001b[39m\u001b[38;5;241m.\u001b[39madd_line(line)\n",
      "File \u001b[1;32m~\\anaconda3\\Lib\\site-packages\\matplotlib\\axes\\_base.py:311\u001b[0m, in \u001b[0;36m_process_plot_var_args.__call__\u001b[1;34m(self, data, *args, **kwargs)\u001b[0m\n\u001b[0;32m    309\u001b[0m     this \u001b[38;5;241m+\u001b[39m\u001b[38;5;241m=\u001b[39m args[\u001b[38;5;241m0\u001b[39m],\n\u001b[0;32m    310\u001b[0m     args \u001b[38;5;241m=\u001b[39m args[\u001b[38;5;241m1\u001b[39m:]\n\u001b[1;32m--> 311\u001b[0m \u001b[38;5;28;01myield from\u001b[39;00m \u001b[38;5;28mself\u001b[39m\u001b[38;5;241m.\u001b[39m_plot_args(\n\u001b[0;32m    312\u001b[0m     this, kwargs, ambiguous_fmt_datakey\u001b[38;5;241m=\u001b[39mambiguous_fmt_datakey)\n",
      "File \u001b[1;32m~\\anaconda3\\Lib\\site-packages\\matplotlib\\axes\\_base.py:504\u001b[0m, in \u001b[0;36m_process_plot_var_args._plot_args\u001b[1;34m(self, tup, kwargs, return_kwargs, ambiguous_fmt_datakey)\u001b[0m\n\u001b[0;32m    501\u001b[0m     \u001b[38;5;28mself\u001b[39m\u001b[38;5;241m.\u001b[39maxes\u001b[38;5;241m.\u001b[39myaxis\u001b[38;5;241m.\u001b[39mupdate_units(y)\n\u001b[0;32m    503\u001b[0m \u001b[38;5;28;01mif\u001b[39;00m x\u001b[38;5;241m.\u001b[39mshape[\u001b[38;5;241m0\u001b[39m] \u001b[38;5;241m!=\u001b[39m y\u001b[38;5;241m.\u001b[39mshape[\u001b[38;5;241m0\u001b[39m]:\n\u001b[1;32m--> 504\u001b[0m     \u001b[38;5;28;01mraise\u001b[39;00m \u001b[38;5;167;01mValueError\u001b[39;00m(\u001b[38;5;124mf\u001b[39m\u001b[38;5;124m\"\u001b[39m\u001b[38;5;124mx and y must have same first dimension, but \u001b[39m\u001b[38;5;124m\"\u001b[39m\n\u001b[0;32m    505\u001b[0m                      \u001b[38;5;124mf\u001b[39m\u001b[38;5;124m\"\u001b[39m\u001b[38;5;124mhave shapes \u001b[39m\u001b[38;5;132;01m{\u001b[39;00mx\u001b[38;5;241m.\u001b[39mshape\u001b[38;5;132;01m}\u001b[39;00m\u001b[38;5;124m and \u001b[39m\u001b[38;5;132;01m{\u001b[39;00my\u001b[38;5;241m.\u001b[39mshape\u001b[38;5;132;01m}\u001b[39;00m\u001b[38;5;124m\"\u001b[39m)\n\u001b[0;32m    506\u001b[0m \u001b[38;5;28;01mif\u001b[39;00m x\u001b[38;5;241m.\u001b[39mndim \u001b[38;5;241m>\u001b[39m \u001b[38;5;241m2\u001b[39m \u001b[38;5;129;01mor\u001b[39;00m y\u001b[38;5;241m.\u001b[39mndim \u001b[38;5;241m>\u001b[39m \u001b[38;5;241m2\u001b[39m:\n\u001b[0;32m    507\u001b[0m     \u001b[38;5;28;01mraise\u001b[39;00m \u001b[38;5;167;01mValueError\u001b[39;00m(\u001b[38;5;124mf\u001b[39m\u001b[38;5;124m\"\u001b[39m\u001b[38;5;124mx and y can be no greater than 2D, but have \u001b[39m\u001b[38;5;124m\"\u001b[39m\n\u001b[0;32m    508\u001b[0m                      \u001b[38;5;124mf\u001b[39m\u001b[38;5;124m\"\u001b[39m\u001b[38;5;124mshapes \u001b[39m\u001b[38;5;132;01m{\u001b[39;00mx\u001b[38;5;241m.\u001b[39mshape\u001b[38;5;132;01m}\u001b[39;00m\u001b[38;5;124m and \u001b[39m\u001b[38;5;132;01m{\u001b[39;00my\u001b[38;5;241m.\u001b[39mshape\u001b[38;5;132;01m}\u001b[39;00m\u001b[38;5;124m\"\u001b[39m)\n",
      "\u001b[1;31mValueError\u001b[0m: x and y must have same first dimension, but have shapes (9,) and (21,)"
     ]
    },
    {
     "data": {
      "image/png": "[encoded data removed]",
      "text/plain": [
       "<Figure size 1000x600 with 1 Axes>"
      ]
     },
     "metadata": {},
     "output_type": "display_data"
    }
   ],
   "source": [
    "# Plotar a soma dos scores F para diferentes valores de k\n",
    "plt.figure(figsize=(10, 6))\n",
    "plt.plot(range(1, microdadosEnem[colunas_para_analise].shape[1] + 1, 20), k_vs_score, marker='o')\n",
    "plt.xlabel('Número de Características (k)')\n",
    "plt.ylabel('Soma dos Scores F')\n",
    "plt.title('Seleção de k Melhor para a Base de Dados')\n",
    "plt.show()"
   ]
  },
  {
   "cell_type": "code",
   "execution_count": null,
   "id": "efffe9fc",
   "metadata": {
    "scrolled": true
   },
   "outputs": [],
   "source": [
    "colunas_para_analise = [col for col in microdadosEnem.columns if col != 'MEDIA_NOTAS' and col != 'K_Cluster']\n",
    "\n",
    "for cluster in np.sort(microdadosEnem.K_Cluster.unique()):\n",
    "    labels_binarias = (microdadosEnem['K_Cluster'] == cluster).astype(int)\n",
    "    \n",
    "    k_best = 10\n",
    "    selector = SelectKBest(score_func=f_classif, k=k_best)\n",
    "    selector.fit(microdadosEnem[colunas_para_analise], labels_binarias)\n",
    "    \n",
    "    # Obter as pontuações F e p-valores\n",
    "    f_scores = selector.scores_\n",
    "    p_values = selector.pvalues_\n",
    "    \n",
    "    thresh = np.percentile(f_scores, 75)\n",
    "    pval_thresh = 0.01\n",
    "    \n",
    "    # Selecionar características relevantes e estatisticamente significativas\n",
    "    mask = (f_scores >= thresh) & (p_values <= pval_thresh)\n",
    "    relevant_features = pd.Index(colunas_para_analise)[mask]\n",
    "    relevant_scores = f_scores[mask]\n",
    "    \n",
    "    # Combinar características e suas pontuações em um DataFrame e ordenar\n",
    "    relevant_df = pd.DataFrame({'Feature': relevant_features, 'F Score': relevant_scores})\n",
    "    relevant_df = relevant_df.sort_values(by='F Score', ascending=False)\n",
    "    \n",
    "    print()\n",
    "    print(f\"============ Características mais relevantes para o Cluster {cluster} ============\")\n",
    "    print()\n",
    "    for _, row in relevant_df.iterrows():\n",
    "        print(f\"{cluster:d};{row['Feature']};{row['F Score']:.2f}\")\n"
   ]
  },
  {
   "cell_type": "markdown",
   "id": "4a5d19ee",
   "metadata": {},
   "source": [
    "## RandomForestClassifier\n",
    "\n",
    "Avaliam a importância das características com base na redução da impureza (Gini ou Entropia).\n",
    "\n",
    "[ABORTADO] - Muito tempo de processamento"
   ]
  },
  {
   "cell_type": "code",
   "execution_count": null,
   "id": "63c3f4a2",
   "metadata": {},
   "outputs": [],
   "source": [
    "# from sklearn.ensemble import RandomForestClassifier\n",
    "\n",
    "# for cluster in np.sort(microdadosEnem.K_Cluster.unique()):\n",
    "#     labels_binarias = (microdadosEnem['K_Cluster'] == cluster).astype(int)\n",
    "    \n",
    "#     rf = RandomForestClassifier(n_estimators=100, random_state=72769)\n",
    "#     rf.fit(microdadosEnem[colunas_para_analise].values, labels_binarias)\n",
    "    \n",
    "#     importances = rf.feature_importances_\n",
    "#     relevant_features = pd.Index(colunas_para_analise)[importances > 0]\n",
    "#     relevant_importances = importances[importances > 0]\n",
    "    \n",
    "#     relevant_df = pd.DataFrame({'Feature': relevant_features, 'Importance': relevant_importances})\n",
    "#     relevant_df = relevant_df.sort_values(by='Importance', ascending=False)\n",
    "    \n",
    "#     print()\n",
    "#     print(f\"============ Características mais relevantes para o Cluster {cluster} ============\")\n",
    "#     print()\n",
    "#     for _, row in relevant_df.iterrows():\n",
    "#         print(f\"{cluster:d};{row['Feature']};{row['Importance']:.4f}\")"
   ]
  },
  {
   "cell_type": "markdown",
   "id": "c63b82b7",
   "metadata": {},
   "source": [
    "## Seleção de Características com Lasso\n",
    "\n",
    "Penaliza características menos importantes, forçando seus coeficientes para zero."
   ]
  },
  {
   "cell_type": "code",
   "execution_count": null,
   "id": "b173f94d",
   "metadata": {},
   "outputs": [],
   "source": [
    "from sklearn.linear_model import Lasso\n",
    "\n",
    "for cluster in np.sort(microdadosEnem.K_Cluster.unique()):\n",
    "    labels_binarias = (microdadosEnem['K_Cluster'] == cluster).astype(int)\n",
    "    \n",
    "    lasso = Lasso(alpha=0.01, max_iter=10000)\n",
    "    lasso.fit(microdadosEnem[colunas_para_analise].values, labels_binarias)\n",
    "    \n",
    "    relevant_features = pd.Index(colunas_para_analise)[lasso.coef_ != 0]\n",
    "    relevant_coefs = lasso.coef_[lasso.coef_ != 0]\n",
    "    \n",
    "    relevant_df = pd.DataFrame({'Feature': relevant_features, 'Coefficient': relevant_coefs})\n",
    "    relevant_df = relevant_df.sort_values(by='Coefficient', ascending=False)\n",
    "    \n",
    "    print()\n",
    "    print(f\"============ Características mais relevantes para o Cluster {cluster} ============\")\n",
    "    print()\n",
    "    for _, row in relevant_df.iterrows():\n",
    "        print(f\"{cluster:d};{row['Feature']};{row['Coefficient']:.4f}\")\n"
   ]
  },
  {
   "cell_type": "markdown",
   "id": "d61a0a40",
   "metadata": {},
   "source": [
    "## PCA (Principal Component Analysis):\n",
    "\n",
    "Reduz a dimensionalidade dos dados, identificando as componentes principais."
   ]
  },
  {
   "cell_type": "code",
   "execution_count": null,
   "id": "baac5046",
   "metadata": {},
   "outputs": [],
   "source": [
    "from sklearn.decomposition import PCA\n",
    "\n",
    "for cluster in np.sort(microdadosEnem.K_Cluster.unique()):\n",
    "    # Filtrar dados do cluster atual\n",
    "    cluster_data = microdadosEnem[microdadosEnem['K_Cluster'] == cluster][colunas_para_analise]\n",
    "    \n",
    "    # Aplicar PCA\n",
    "    pca = PCA(n_components=0.95)  # Manter componentes que explicam 95% da variância\n",
    "    pca.fit(cluster_data)\n",
    "    \n",
    "    # Obter componentes principais\n",
    "    pca_components = pca.components_\n",
    "    \n",
    "    # Obter a importância das características originais em cada componente principal\n",
    "    feature_importance = np.abs(pca_components).sum(axis=0)\n",
    "    feature_importance /= feature_importance.sum()\n",
    "\n",
    "    relevant_features = pd.Index(colunas_para_analise)\n",
    "    relevant_importance = feature_importance\n",
    "    \n",
    "    relevant_df = pd.DataFrame({'Feature': relevant_features, 'Importance': relevant_importance})\n",
    "    relevant_df = relevant_df.sort_values(by='Importance', ascending=False)\n",
    "\n",
    "    print()\n",
    "    print(f\"============ Características mais relevantes para o Cluster {cluster} ============\")\n",
    "    print()\n",
    "    for _, row in relevant_df.iterrows():\n",
    "        print(f\"{cluster:d};{row['Feature']};{row['Importance']:.4f}\")"
   ]
  }
 ],
 "metadata": {
  "kernelspec": {
   "display_name": "Python 3 (ipykernel)",
   "language": "python",
   "name": "python3"
  },
  "language_info": {
   "codemirror_mode": {
    "name": "ipython",
    "version": 3
   },
   "file_extension": ".py",
   "mimetype": "text/x-python",
   "name": "python",
   "nbconvert_exporter": "python",
   "pygments_lexer": "ipython3",
   "version": "3.11.5"
  }
 },
 "nbformat": 4,
 "nbformat_minor": 5
}

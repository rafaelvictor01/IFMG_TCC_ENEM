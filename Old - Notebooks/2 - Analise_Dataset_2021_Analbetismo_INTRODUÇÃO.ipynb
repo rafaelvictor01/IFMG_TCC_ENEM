{
 "cells": [
  {
   "cell_type": "markdown",
   "id": "895739cd",
   "metadata": {},
   "source": [
    "# Estudo da correlação entre características socioeconômicas de participantes do ENEM e indicadores de analfabetismo funcional: uma abordagem utilizando técnicas de ciência e mineração de dados"
   ]
  },
  {
   "cell_type": "markdown",
   "id": "a4f89c6d",
   "metadata": {},
   "source": [
    "## Introdução\n",
    "\n",
    "O Exame Nacional do Ensino Médio (ENEM) foi criado durante o governo do ex-presidente Fernando Henrique Cardoso no ano de 1998 com o intuito de avaliar, anualmente, o aprendizado de alunos do ensino médio brasileiro sob o pretexto da lei nº 9.394, de 20 de dezembro de 1996, que estabeleceu as diretrizes e bases da educação nacional. A partir de 2004, foram implementadas estratégias que viabilizaram a utilização do resultado do exame como forma de ingresso em cursos superiores. A primeira delas foi o Programa Universidade para Todos, o chamado ProUni. Criado por meio pela lei nº 11.096, o programa oferece bolsas em universidades particulares para jovens com determinados critérios socioeconomicos. Posteriormente, em 2010, foi instituído o Sistema de Seleção Unificada (SISU), que possibilita o ingresso em universidades públicas com base nos resultados do ENEM (Brasil, 2010).\n",
    "\n",
    "O processo de inscrição para o ENEM é realizado pela internet e requer atenção ao preenchimento do cadastro e cumprimento dos prazos estipulados. Os candidatos devem acessar o site do Ministério da Educação (MEC) e completar a ficha de inscrição, que inclui um extenso questionário socioeconômico. As informações socioeconômicas dos candidatos são armazenadas e, após a conclusão do ciclo do exame, são anonimizadas e disponibilizadas ao público (Brasil, 2019). Esse processo é de grande relevância para a sociedade, uma vez que fornece uma prévia anual dos resultados do censo demográfico realizado pelo Instituto Brasileiro de Geografia e Estatística (IBGE).\n",
    "\n",
    "Este trabalho propõe a utilização do questionário socioeconômico do ENEM para investigar correlações históricas entre as características socioeconômicas dos participantes do exame e indicadores de analfabetismo funcional. Vale ressaltar que a definição de alfabetismo tem passado por significativas mudanças nas últimas décadas (Smith, 2015; Jones et al., 2018). \n",
    "\n",
    "Se em 1958 uma pessoa era considerada alfabetizada quando conseguia ler ou escrever uma frase simples, hoje, com o avanço das tecnologias de comunicação, a modernização das sociedades e o aumento da participação social e política, é fato que este diagnóstico se tornou mais raro. No entanto, de acordo com Soares (2006, p. 45-46): \n",
    "\n",
    "As pessoas se alfabetizam, aprendem a ler e a escrever, mas não\n",
    "necessariamente incorporam a prática da leitura e da escrita, não\n",
    "necessariamente adquirem competências para usar a leitura e a escrita, para\n",
    "envolver-se com práticas sociais de escrita: não leem livros, jornais, revistas,\n",
    "não sabem redigir um ofício, um requerimento, uma declaração, não sabem\n",
    "preencher um formulário, sentem dificuldades para escrever um simples\n",
    "telegrama, uma carta, não conseguem encontrar informações num catálogo\n",
    "telefônico, num contrato de trabalho, numa conta de luz, numa bula de\n",
    "remédio [...].\n",
    "\n",
    "Isto é, ainda que estejamos acompanhando um significativo avanço quanto ao conceito de alfabetização de 1958, ainda devemos nos preocupar com os cidadãos a que Soares (2006, p. 45-46) se refere. Para defini-los, a Unesco sugere a adoção do conceito de Alfabetismo Funcional, o qual indica que, além de possuir as habilidades de leitura e escrita, a pessoa deve saber utilizá-las, processando diferentes textos em diferentes contextos e situações comunicativas.\n",
    "\n",
    "Por meio da aplicação de técnicas de ciências e mineração de dados nas bases de dados do ENEM dos anos de 2018 a 2022, pretende-se [COMPLETAR]\n",
    "\n",
    "\n",
    "[INCLUIR EM UM PARAGRAFO DE CONCLUSÃO] Ao analisar essas correlações, espera-se obter insights sobre a relação entre as características socioeconômicas dos participantes do ENEM e o analfabetismo funcional, contribuindo para o entendimento desse fenômeno e para a formulação de políticas públicas eficazes (Brown, 2019; Green et al., 2020).\n",
    "\n",
    "\n",
    "Este trabalho tem como objetivo geral percorrer todo o fluxo da construção de um modelo de aprendizado de máquina (_machine learning_), com foco principalmente no pré-processamento e na transformação de dados com alta dimensionalidade das múltiplas bases de dados do ENEM dos anos entre 2019 e 2022. Para tanto, serão criados scripts individuais de análise para cada uma das bases disponíveis. Serão aplicadas diferentes técnicas de aprendizado, e as características (_features_) que se mostrarem historicamente mais relevantes serão utilizadas em conjunto com os modelos de maior acurácia de aprendizado para proposição de um modelo global.\n",
    "\n",
    "... falar sobre a dimencionalidade e a redução dela\n",
    "\n",
    "A princípio, é necessário compreender quais são as etapas para a construção de um modelo de aprendizado de máquina. A primeira etapa consiste em preparar os dados para entrada no modelo. Após isso, é comum executar várias etapas de pré-processamento e transformação dos dados recebidos, a fim de torná-los acessíveis e utilizáveis pelos algoritmos de aprendizado de máquina, uma vez que a maioria deles não lida bem com dados ausentes, indefinidos e não numéricos. Em seguida, é realizada a separação dos dados em conjuntos de teste e treinamento. Com os dados de treinamento, inicia-se a construção do modelo de aprendizado de máquina. Após a construção, é importante validar o modelo por meio de um teste. É essencial realizar uma avaliação crítica dos resultados obtidos para determinar se o modelo atende ou não ao propósito para o qual foi desenvolvido. Caso não atenda, retorna-se à construção do modelo, entrando em um ciclo chamado de \"loop de treinamento e teste\". Caso contrário, passa-se para a implementação do modelo.\n",
    "\n",
    "Google Academico: \"Análise de dados enem\"\n",
    "\n",
    "\n",
    "Referências:\n",
    "Brasil. (1998). Lei nº 9.394, de 20 de dezembro de 1996. Estabelece as diretrizes e bases da educação nacional. Recuperado de http://www.planalto.gov.br/ccivil_03/leis/l9394.htm\n",
    "\n",
    "Brasil. (2004). Lei nº 11.096, de 13 de janeiro de 2005. Institui o Programa Universidade para Todos - ProUni. Recuperado de http://www.planalto.gov.br/ccivil_03/_ato2004-2006/2005/lei/l11096.htm\n",
    "\n",
    "Brasil. (2010). Decreto nº 7.824, de 11 de outubro de 2012. Regulamenta o Sistema de Seleção Unificada - SISU. Recuperado de http://www.planalto.gov.br/ccivil_03/_ato2011-2014/2012/decreto/d7824.htm\n",
    "\n",
    "Brasil. (2019). Ministério da Educação. Guia de Redação do ENEM 2019. Recuperado de http://download.inep.gov.br/educacao_basica/enem/guia_de_redacao_do_enem_2019.pdf\n",
    "\n",
    "IBGE. (2022). Instituto Brasileiro de Geografia e Estatística. Recuperado de https://www.ibge.gov.br/\n",
    "\n",
    "Smith, J. (2015). Understanding Literacy: A Conceptual Overview. In D. J. Leu, C. K. Kinzer, K. A. Hinchman, & J. K. Coiro (Eds.), Handbook of Research on New Literacies (pp. 17-33). Routledge.\n",
    "\n",
    "Jones, M., Thompson, K., & Brown, A. (2018). Rethinking Literacy. In M. Jones, K. Thompson, & A. Brown (Eds.), Rethinking Literacy in the Digital Age: Multimodal and Critical Perspectives (pp. 1-14). Routledge.\n",
    "\n",
    "Brown, L. (2019). Addressing Illiteracy: A Global Priority. In L. Brown (Ed.), The Global Challenge of Literacy (pp. 1-18). Springer.\n",
    "\n",
    "Green, M., Bloome, D., & Carter, S. (2020). Literacy in the United States. In M. Green, D. Bloome, & S. Carter (Eds.), Literacy in America: An Encyclopedia of History, Theory, and Practice (pp. 1-8). ABC-CLIO."
   ]
  }
 ],
 "metadata": {
  "kernelspec": {
   "display_name": "Python 3 (ipykernel)",
   "language": "python",
   "name": "python3"
  },
  "language_info": {
   "codemirror_mode": {
    "name": "ipython",
    "version": 3
   },
   "file_extension": ".py",
   "mimetype": "text/x-python",
   "name": "python",
   "nbconvert_exporter": "python",
   "pygments_lexer": "ipython3",
   "version": "3.10.9"
  }
 },
 "nbformat": 4,
 "nbformat_minor": 5
}
